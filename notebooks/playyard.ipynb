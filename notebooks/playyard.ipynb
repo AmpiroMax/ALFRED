{
 "cells": [
  {
   "cell_type": "markdown",
   "metadata": {},
   "source": [
    "Current TODO:\n",
    "- add pad token ignorence\n",
    "- save and load model\n",
    "- find appropriate data size to fit gpu\n",
    "- add state encoding to model\n",
    "- change iterations over dataset to dataloader \n",
    "\n",
    "Global TODO:\n",
    "- setup ALFRED venv and run simulation\n",
    "- comment functions in model and dataset\n",
    "- make model with ResNet image processor\n",
    "- run model on ALFRED sim"
   ]
  },
  {
   "cell_type": "code",
   "execution_count": null,
   "metadata": {},
   "outputs": [],
   "source": [
    "%load_ext autoreload\n",
    "%autoreload 2"
   ]
  },
  {
   "cell_type": "code",
   "execution_count": null,
   "metadata": {},
   "outputs": [],
   "source": [
    "from src.models.MultyModalGPT2 import MultyModalGPT2\n",
    "from src.data.shemas import ConfigData, ConfigTraining\n",
    "from src.data.datasets import AlfredDataset\n",
    "from src.pipelines.train_pipeline import train_loop\n",
    "from src.utils import decode_from_logits\n",
    "\n",
    "from torchsummary import summary\n",
    "from torch.optim import AdamW\n",
    "import torch\n",
    "from tqdm.auto import tqdm\n",
    "\n",
    "import matplotlib.pyplot as plt\n"
   ]
  },
  {
   "cell_type": "code",
   "execution_count": null,
   "metadata": {},
   "outputs": [],
   "source": [
    "train_cfg = ConfigTraining(\n",
    "    train_data_path = \"../data/raw/json_feat_2.1.0/json_feat_2.1.0/train/\",\n",
    "    test_data_path = \"../data/raw/json_feat_2.1.0/json_feat_2.1.0/valid_seen/\",\n",
    "    epoch_num=1,\n",
    "    data_samples_num=100\n",
    ")\n",
    "\n",
    "cfg = ConfigData(\n",
    "    device=\"cuda\",\n",
    "    train_cfg=train_cfg\n",
    ")"
   ]
  },
  {
   "cell_type": "code",
   "execution_count": null,
   "metadata": {},
   "outputs": [],
   "source": [
    "train_dataset = AlfredDataset(cfg)\n",
    "test_dataset = AlfredDataset(cfg, dataset_type=\"test\")"
   ]
  },
  {
   "cell_type": "code",
   "execution_count": null,
   "metadata": {},
   "outputs": [],
   "source": [
    "mmgpt = MultyModalGPT2(cfg)\n",
    "mmgpt.train()\n",
    "# mmgpt.set_bias_training()\n",
    "opt = AdamW(mmgpt.get_trainable_params())"
   ]
  },
  {
   "cell_type": "code",
   "execution_count": null,
   "metadata": {},
   "outputs": [],
   "source": [
    "history = train_loop(mmgpt, train_dataset, test_dataset, opt, cfg)"
   ]
  },
  {
   "cell_type": "code",
   "execution_count": null,
   "metadata": {},
   "outputs": [],
   "source": [
    "history"
   ]
  },
  {
   "cell_type": "code",
   "execution_count": null,
   "metadata": {},
   "outputs": [],
   "source": [
    "# sample = train_dataset[0]\n",
    "# sample[\"images_features\"] = sample[\"images_features\"].to(cfg.device)\n",
    "\n",
    "# data_size = min(8,  sample[\"images_features\"].shape[0])\n",
    "# sample_part = {\n",
    "#     k: v[:data_size] for k, v in sample.items()\n",
    "# }\n",
    "\n",
    "# out = mmgpt(sample_part)\n",
    "\n",
    "# predictions = decode_from_logits(mmgpt.mmtokenizer.tokenizer, out[\"logits\"])\n",
    "# predictions"
   ]
  }
 ],
 "metadata": {
  "kernelspec": {
   "display_name": ".venv",
   "language": "python",
   "name": "python3"
  },
  "language_info": {
   "codemirror_mode": {
    "name": "ipython",
    "version": 3
   },
   "file_extension": ".py",
   "mimetype": "text/x-python",
   "name": "python",
   "nbconvert_exporter": "python",
   "pygments_lexer": "ipython3",
   "version": "3.10.7"
  },
  "orig_nbformat": 4
 },
 "nbformat": 4,
 "nbformat_minor": 2
}
