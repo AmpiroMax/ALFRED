{
 "cells": [
  {
   "cell_type": "markdown",
   "metadata": {},
   "source": [
    "Current TODO:\n",
    "- save and load model\n",
    "- train pipeline\n",
    "- inference pipeline\n",
    "- find appropriate data size ot fit gpu\n",
    "- evaluation metrics (loss, accuracy, CTCloss, bleu)\n",
    "- add state encoding to model\n",
    "\n",
    "Global TODO:\n",
    "- setup ALFRED venv and run simulation\n",
    "- comment functions in model and dataset\n",
    "- make model with ResNet image processor\n",
    "- make dataset with high instructions generation\n",
    "- run model on ALFRED sim"
   ]
  },
  {
   "cell_type": "code",
   "execution_count": 1,
   "metadata": {},
   "outputs": [],
   "source": [
    "%load_ext autoreload\n",
    "%autoreload 2"
   ]
  },
  {
   "cell_type": "code",
   "execution_count": 2,
   "metadata": {},
   "outputs": [],
   "source": [
    "from src.models.MultyModalGPT2 import MultyModalGPT2\n",
    "from src.data.shemas import ConfigData, ConfigTraining\n",
    "from src.data.datasets import AlfredDataset\n",
    "\n",
    "from src.utils import decode_from_logits"
   ]
  },
  {
   "cell_type": "code",
   "execution_count": 3,
   "metadata": {},
   "outputs": [],
   "source": [
    "train_cfg = ConfigTraining(\n",
    "    train_data_path = \"../data/raw/json_feat_2.1.0/json_feat_2.1.0/train/\"\n",
    ")\n",
    "\n",
    "cfg = ConfigData(\n",
    "    device=\"cuda\",\n",
    "    train_cfg=train_cfg\n",
    ")"
   ]
  },
  {
   "cell_type": "code",
   "execution_count": 4,
   "metadata": {},
   "outputs": [],
   "source": [
    "dataset = AlfredDataset(cfg)\n",
    "mmgpt = MultyModalGPT2(cfg)"
   ]
  },
  {
   "cell_type": "code",
   "execution_count": 5,
   "metadata": {},
   "outputs": [],
   "source": [
    "sample = dataset[0]\n",
    "sample[\"images_features\"] = sample[\"images_features\"].to(cfg.device)\n",
    "\n",
    "data_size = sample[\"images_features\"].shape[0]\n",
    "sample_part = {\n",
    "    k: v[:data_size] for k, v in sample.items()\n",
    "}"
   ]
  },
  {
   "cell_type": "code",
   "execution_count": 6,
   "metadata": {},
   "outputs": [],
   "source": [
    "out = mmgpt(sample_part)"
   ]
  },
  {
   "cell_type": "code",
   "execution_count": 7,
   "metadata": {},
   "outputs": [
    {
     "data": {
      "text/plain": [
       "torch.Size([12, 154, 50257])"
      ]
     },
     "execution_count": 7,
     "metadata": {},
     "output_type": "execute_result"
    }
   ],
   "source": [
    "out[\"logits\"].shape"
   ]
  },
  {
   "cell_type": "code",
   "execution_count": 8,
   "metadata": {},
   "outputs": [
    {
     "data": {
      "text/plain": [
       "[',,\\n of, the the the the.\\n:\\n up the first.. turn it the light.\\n on, right the doorer.\\n up the lamp clock and the toper.\\n right and and at see turn the dress.\\n right lamp on and\\n\\xa0\\xa0\\xa0\\n\\n\\n                     name actions are\\n\\n                           you the doing??\\nTheTheTheTheTheTheTheTheTheTheTheTheTheTheTheTheTheTheTheTheTheTheTheTheTheTheTheTheTheTheThe at\\nThe',\n",
       " ',,\\n,, the the,,.\\ner\\n a the \".. the it the light.\\n on, right the doorer.\\n up the lamp clock and the toper.\\n right and and at see turn the dress.\\n right lamp on and\\n\\xa0\\xa0\\xa0\\n\\n\\n                    s actions are\\n at the\\n                           you the doing to? TheTheTheTheTheTheTheTheTheTheTheTheTheTheTheTheTheTheTheTheTheTheTheTheTheTheTheTheThement\\nThe',\n",
       " ',,\\n,, the the the, the\\ner\\n a the \".. the it the light.\\n on, right the doorer.\\n up the lamp clock. the toper.\\n the and and at see turn the door.\\n right lamp on and\\n\\xa0\\xa0\\xa0\\n\\n\\n\\n\\n                  s actions are\\n at the\\n left.\\n                           is the doing?? TheTheTheTheTheTheTheTheTheTheTheTheTheTheTheTheTheTheTheTheTheTheTheTheTheThement\\nThe',\n",
       " ',,\\n, the the the,..\\n:\\n a the first.. the it the light.\\n the, right the doorer.\\n up the lamp clock and the toper.\\n right and and at see turn the door.\\n right lamp on and\\n\\xa0\\xa0\\xa0\\n\\n\\n\\n                   s actions are\\n at.\\n left.\\n to.\\n\\xa0                          is the doing?? TheTheTheTheTheTheTheTheTheTheTheTheTheTheTheTheTheTheTheTheTheTheTheate\\n.',\n",
       " ',,\\n,, the the the..\\n.\\n up the \".. the on the light.\\n on, right the otherer.\\n up the lamp clock and the lamper.\\n the and and at see turn the dress.\\n right lamp on.\\n\\xa0\\xa0\\n\\n\\n\\n\\n\\n\\n                  head actions are\\n at the\\n to.\\n..\\n..\\n                           is the doing?? TheTheTheTheTheTheTheTheTheTheTheTheTheTheTheTheTheTheTheThe at\\nThe',\n",
       " ',,\\n of,,, the the the\\n:\\n up the \".. the it the light.\\n on, right the otherer.\\n up the lamp clock and the toper.\\n the and and at see turn the dress.\\n right lamp on and\\n\\xa0\\xa0\\n\\n\\n\\n\\n\\n\\n                  head actions are\\n at the\\n left.\\n..\\n..\\n.\\n                           is the doing?? TheTheTheTheTheTheTheTheTheTheTheTheTheTheTheTheTheThe a\\n\\n',\n",
       " ',,\\nary,, the the the the\\n:\\n up the \".. the it the light.\\n on, right the doorer.\\n up the lamp clock and the toper.\\n right and and at see turn the dress.\\n right lamp on.\\n\\xa0\\xa0\\n\\n\\n\\n                     name actions are\\n at,\\n left.\\n to.\\n..\\n.\\n..\\n                           is the doing to?\\nTheTheTheTheTheTheTheTheTheTheTheTheTheTheThe at\\nThe',\n",
       " ',,\\n-. the the,,.\\n: \" up the \".. the it the light.\\n on, right the otherer.\\n up the lamp clock and the lamper.\\n right and and at see turn the dress.\\n right lamp on.\\n\\xa0\\xa0                         name actions are\\n at the\\n left.\\n to.\\n..\\n.\\n..\\nup.\\n                           is the doing to? TheTheTheTheTheTheTheTheTheTheTheTheate\\n\\n',\n",
       " ',,\\n_,\\n..\\n.\\n.\\n up the \".. the on. \".\\n on and right the otherer.\\n up the lamp clock. the lamper.\\n right and and at see the the dress.\\n right lamp on.\\n\\xa0\\xa0\\n\\n\\n\\n                     hand and are\\n at the\\n to.\\n to.\\n..\\n.\\n..\\n..\\nleft.\\n                           the the doing?? TheTheTheTheTheTheTheTheThe to\\nThe',\n",
       " ',,\\n,,.....\\n. The a the \".. the it the light.\\n on and right the otherer.\\n up the lamp clock and the waller.\\n right and and at see turn the dress.\\n right lamp on.\\n\\xa0\\xa0\\xa0\\n                      s actions are\\n at the\\n to.\\n to.\\n..\\n.\\n..\\n for.\\n..\\n..\\n\\xa0                          is the doing to? TheTheTheTheTheTheate\\n\\n',\n",
       " ',,\\n,, the the,\\n,\\n. The up the \".. the on the \".\\n on, right the otherer.\\n up the lamp clock. the lamper.\\n right and and at see the the dress.\\n right lamp on.\\n\\xa0\\xa0\\xa0\\n\\n                      name actions are\\n at the\\n to.\\n to.\\n..\\n.\\n..\\n..\\nleft.\\nahead.\\nate..\\n\\xa0                          is the doing?? TheThe at\\nThe',\n",
       " ',,\\n,, the the the\\n,\\n. The-. \".. the on. \".\\n on, the the otherer.\\n up the lamp.. the lamper.\\n the and and at see the the dress.\\n right lamp on.\\n\\xa0\\xa0\\n\\n\\n\\n                     hand and are\\n at the\\n the.\\n to.\\n..\\n.\\n..\\n..\\nleft.\\nahead.\\nate..\\n.\\n                           is the doing??...']"
      ]
     },
     "execution_count": 8,
     "metadata": {},
     "output_type": "execute_result"
    }
   ],
   "source": [
    "decode_from_logits(mmgpt.mmtokenizer.tokenizer, out[\"logits\"])"
   ]
  },
  {
   "cell_type": "code",
   "execution_count": null,
   "metadata": {},
   "outputs": [],
   "source": []
  },
  {
   "cell_type": "code",
   "execution_count": null,
   "metadata": {},
   "outputs": [],
   "source": []
  },
  {
   "cell_type": "code",
   "execution_count": null,
   "metadata": {},
   "outputs": [],
   "source": []
  }
 ],
 "metadata": {
  "kernelspec": {
   "display_name": ".venv",
   "language": "python",
   "name": "python3"
  },
  "language_info": {
   "codemirror_mode": {
    "name": "ipython",
    "version": 3
   },
   "file_extension": ".py",
   "mimetype": "text/x-python",
   "name": "python",
   "nbconvert_exporter": "python",
   "pygments_lexer": "ipython3",
   "version": "3.10.7"
  },
  "orig_nbformat": 4
 },
 "nbformat": 4,
 "nbformat_minor": 2
}
