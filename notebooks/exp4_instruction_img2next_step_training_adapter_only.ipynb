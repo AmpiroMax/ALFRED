{
 "cells": [
  {
   "cell_type": "code",
   "execution_count": 1,
   "metadata": {},
   "outputs": [],
   "source": [
    "%load_ext autoreload\n",
    "%autoreload 2"
   ]
  },
  {
   "cell_type": "code",
   "execution_count": 2,
   "metadata": {},
   "outputs": [],
   "source": [
    "from src.models.MultyModalGPT2 import MultyModalGPT2\n",
    "from src.data.shemas import ConfigData, ConfigTraining\n",
    "from src.data.datasets import AlfredDataset\n",
    "from src.pipelines.train_pipeline import train_loop\n",
    "\n",
    "from torch.optim import AdamW\n",
    "import matplotlib.pyplot as plt"
   ]
  },
  {
   "cell_type": "code",
   "execution_count": 3,
   "metadata": {},
   "outputs": [],
   "source": [
    "train_cfg = ConfigTraining(\n",
    "    train_data_path = \"../data/raw/json_feat_2.1.0/json_feat_2.1.0/train/\",\n",
    "    test_data_path = \"../data/raw/json_feat_2.1.0/json_feat_2.1.0/valid_seen/\",\n",
    "    epoch_num=10,\n",
    "    data_samples_num=500\n",
    ")\n",
    "\n",
    "cfg = ConfigData(\n",
    "    device=\"cuda\",\n",
    "    train_cfg=train_cfg\n",
    ")"
   ]
  },
  {
   "cell_type": "code",
   "execution_count": 4,
   "metadata": {},
   "outputs": [],
   "source": [
    "train_dataset = AlfredDataset(cfg, promt_type=\"instruction_img2next_step\")\n",
    "test_dataset = AlfredDataset(cfg, dataset_type=\"test\", promt_type=\"instruction_img2next_step\")"
   ]
  },
  {
   "cell_type": "code",
   "execution_count": 5,
   "metadata": {},
   "outputs": [
    {
     "data": {
      "text/plain": [
       "{'promts': ['<|endoftext|>You see: <|image|>. Task: look at the clock under the lamp go to the table with the safe pick up the clock take the clock to the desk turn on the lamp. Your previous actions: . What is you next step?<|endoftext|>',\n",
       "  '<|endoftext|>You see: <|image|>. Task: look at the clock under the lamp go to the table with the safe pick up the clock take the clock to the desk turn on the lamp. Your previous actions: lookdown. What is you next step?<|endoftext|>',\n",
       "  '<|endoftext|>You see: <|image|>. Task: look at the clock under the lamp go to the table with the safe pick up the clock take the clock to the desk turn on the lamp. Your previous actions: lookdown. rotateleft. What is you next step?<|endoftext|>',\n",
       "  '<|endoftext|>You see: <|image|>. Task: look at the clock under the lamp go to the table with the safe pick up the clock take the clock to the desk turn on the lamp. Your previous actions: lookdown. rotateleft. moveahead. What is you next step?<|endoftext|>',\n",
       "  '<|endoftext|>You see: <|image|>. Task: look at the clock under the lamp go to the table with the safe pick up the clock take the clock to the desk turn on the lamp. Your previous actions: lookdown. rotateleft. moveahead. moveahead. What is you next step?<|endoftext|>',\n",
       "  '<|endoftext|>You see: <|image|>. Task: look at the clock under the lamp go to the table with the safe pick up the clock take the clock to the desk turn on the lamp. Your previous actions: lookdown. rotateleft. moveahead. moveahead. rotateright. What is you next step?<|endoftext|>',\n",
       "  '<|endoftext|>You see: <|image|>. Task: look at the clock under the lamp go to the table with the safe pick up the clock take the clock to the desk turn on the lamp. Your previous actions: lookdown. rotateleft. moveahead. moveahead. rotateright. moveahead. What is you next step?<|endoftext|>',\n",
       "  '<|endoftext|>You see: <|image|>. Task: look at the clock under the lamp go to the table with the safe pick up the clock take the clock to the desk turn on the lamp. Your previous actions: lookdown. rotateleft. moveahead. moveahead. rotateright. moveahead. moveahead. What is you next step?<|endoftext|>',\n",
       "  '<|endoftext|>You see: <|image|>. Task: look at the clock under the lamp go to the table with the safe pick up the clock take the clock to the desk turn on the lamp. Your previous actions: lookdown. rotateleft. moveahead. moveahead. rotateright. moveahead. moveahead. moveahead. What is you next step?<|endoftext|>',\n",
       "  '<|endoftext|>You see: <|image|>. Task: look at the clock under the lamp go to the table with the safe pick up the clock take the clock to the desk turn on the lamp. Your previous actions: lookdown. rotateleft. moveahead. moveahead. rotateright. moveahead. moveahead. moveahead. moveahead. What is you next step?<|endoftext|>',\n",
       "  '<|endoftext|>You see: <|image|>. Task: look at the clock under the lamp go to the table with the safe pick up the clock take the clock to the desk turn on the lamp. Your previous actions: lookdown. rotateleft. moveahead. moveahead. rotateright. moveahead. moveahead. moveahead. moveahead. moveahead. What is you next step?<|endoftext|>',\n",
       "  '<|endoftext|>You see: <|image|>. Task: look at the clock under the lamp go to the table with the safe pick up the clock take the clock to the desk turn on the lamp. Your previous actions: lookdown. rotateleft. moveahead. moveahead. rotateright. moveahead. moveahead. moveahead. moveahead. moveahead. moveahead. What is you next step?<|endoftext|>',\n",
       "  '<|endoftext|>You see: <|image|>. Task: look at the clock under the lamp go to the table with the safe pick up the clock take the clock to the desk turn on the lamp. Your previous actions: lookdown. rotateleft. moveahead. moveahead. rotateright. moveahead. moveahead. moveahead. moveahead. moveahead. moveahead. moveahead. What is you next step?<|endoftext|>',\n",
       "  '<|endoftext|>You see: <|image|>. Task: look at the clock under the lamp go to the table with the safe pick up the clock take the clock to the desk turn on the lamp. Your previous actions: lookdown. rotateleft. moveahead. moveahead. rotateright. moveahead. moveahead. moveahead. moveahead. moveahead. moveahead. moveahead. moveahead. What is you next step?<|endoftext|>',\n",
       "  '<|endoftext|>You see: <|image|>. Task: look at the clock under the lamp go to the table with the safe pick up the clock take the clock to the desk turn on the lamp. Your previous actions: lookdown. rotateleft. moveahead. moveahead. rotateright. moveahead. moveahead. moveahead. moveahead. moveahead. moveahead. moveahead. moveahead. pickupobject. What is you next step?<|endoftext|>',\n",
       "  '<|endoftext|>You see: <|image|>. Task: look at the clock under the lamp go to the table with the safe pick up the clock take the clock to the desk turn on the lamp. Your previous actions: lookdown. rotateleft. moveahead. moveahead. rotateright. moveahead. moveahead. moveahead. moveahead. moveahead. moveahead. moveahead. moveahead. pickupobject. rotateright. What is you next step?<|endoftext|>',\n",
       "  '<|endoftext|>You see: <|image|>. Task: look at the clock under the lamp go to the table with the safe pick up the clock take the clock to the desk turn on the lamp. Your previous actions: lookdown. rotateleft. moveahead. moveahead. rotateright. moveahead. moveahead. moveahead. moveahead. moveahead. moveahead. moveahead. moveahead. pickupobject. rotateright. rotateright. What is you next step?<|endoftext|>',\n",
       "  '<|endoftext|>You see: <|image|>. Task: look at the clock under the lamp go to the table with the safe pick up the clock take the clock to the desk turn on the lamp. Your previous actions: lookdown. rotateleft. moveahead. moveahead. rotateright. moveahead. moveahead. moveahead. moveahead. moveahead. moveahead. moveahead. moveahead. pickupobject. rotateright. rotateright. moveahead. What is you next step?<|endoftext|>',\n",
       "  '<|endoftext|>You see: <|image|>. Task: look at the clock under the lamp go to the table with the safe pick up the clock take the clock to the desk turn on the lamp. Your previous actions: lookdown. rotateleft. moveahead. moveahead. rotateright. moveahead. moveahead. moveahead. moveahead. moveahead. moveahead. moveahead. moveahead. pickupobject. rotateright. rotateright. moveahead. moveahead. What is you next step?<|endoftext|>',\n",
       "  '<|endoftext|>You see: <|image|>. Task: look at the clock under the lamp go to the table with the safe pick up the clock take the clock to the desk turn on the lamp. Your previous actions: lookdown. rotateleft. moveahead. moveahead. rotateright. moveahead. moveahead. moveahead. moveahead. moveahead. moveahead. moveahead. moveahead. pickupobject. rotateright. rotateright. moveahead. moveahead. moveahead. What is you next step?<|endoftext|>',\n",
       "  '<|endoftext|>You see: <|image|>. Task: look at the clock under the lamp go to the table with the safe pick up the clock take the clock to the desk turn on the lamp. Your previous actions: lookdown. rotateleft. moveahead. moveahead. rotateright. moveahead. moveahead. moveahead. moveahead. moveahead. moveahead. moveahead. moveahead. pickupobject. rotateright. rotateright. moveahead. moveahead. moveahead. rotateleft. What is you next step?<|endoftext|>',\n",
       "  '<|endoftext|>You see: <|image|>. Task: look at the clock under the lamp go to the table with the safe pick up the clock take the clock to the desk turn on the lamp. Your previous actions: lookdown. rotateleft. moveahead. moveahead. rotateright. moveahead. moveahead. moveahead. moveahead. moveahead. moveahead. moveahead. moveahead. pickupobject. rotateright. rotateright. moveahead. moveahead. moveahead. rotateleft. moveahead. What is you next step?<|endoftext|>',\n",
       "  '<|endoftext|>You see: <|image|>. Task: look at the clock under the lamp go to the table with the safe pick up the clock take the clock to the desk turn on the lamp. Your previous actions: lookdown. rotateleft. moveahead. moveahead. rotateright. moveahead. moveahead. moveahead. moveahead. moveahead. moveahead. moveahead. moveahead. pickupobject. rotateright. rotateright. moveahead. moveahead. moveahead. rotateleft. moveahead. moveahead. What is you next step?<|endoftext|>',\n",
       "  '<|endoftext|>You see: <|image|>. Task: look at the clock under the lamp go to the table with the safe pick up the clock take the clock to the desk turn on the lamp. Your previous actions: lookdown. rotateleft. moveahead. moveahead. rotateright. moveahead. moveahead. moveahead. moveahead. moveahead. moveahead. moveahead. moveahead. pickupobject. rotateright. rotateright. moveahead. moveahead. moveahead. rotateleft. moveahead. moveahead. moveahead. What is you next step?<|endoftext|>',\n",
       "  '<|endoftext|>You see: <|image|>. Task: look at the clock under the lamp go to the table with the safe pick up the clock take the clock to the desk turn on the lamp. Your previous actions: lookdown. rotateleft. moveahead. moveahead. rotateright. moveahead. moveahead. moveahead. moveahead. moveahead. moveahead. moveahead. moveahead. pickupobject. rotateright. rotateright. moveahead. moveahead. moveahead. rotateleft. moveahead. moveahead. moveahead. moveahead. What is you next step?<|endoftext|>',\n",
       "  '<|endoftext|>You see: <|image|>. Task: look at the clock under the lamp go to the table with the safe pick up the clock take the clock to the desk turn on the lamp. Your previous actions: lookdown. rotateleft. moveahead. moveahead. rotateright. moveahead. moveahead. moveahead. moveahead. moveahead. moveahead. moveahead. moveahead. pickupobject. rotateright. rotateright. moveahead. moveahead. moveahead. rotateleft. moveahead. moveahead. moveahead. moveahead. moveahead. What is you next step?<|endoftext|>',\n",
       "  '<|endoftext|>You see: <|image|>. Task: look at the clock under the lamp go to the table with the safe pick up the clock take the clock to the desk turn on the lamp. Your previous actions: lookdown. rotateleft. moveahead. moveahead. rotateright. moveahead. moveahead. moveahead. moveahead. moveahead. moveahead. moveahead. moveahead. pickupobject. rotateright. rotateright. moveahead. moveahead. moveahead. rotateleft. moveahead. moveahead. moveahead. moveahead. moveahead. moveahead. What is you next step?<|endoftext|>',\n",
       "  '<|endoftext|>You see: <|image|>. Task: look at the clock under the lamp go to the table with the safe pick up the clock take the clock to the desk turn on the lamp. Your previous actions: lookdown. rotateleft. moveahead. moveahead. rotateright. moveahead. moveahead. moveahead. moveahead. moveahead. moveahead. moveahead. moveahead. pickupobject. rotateright. rotateright. moveahead. moveahead. moveahead. rotateleft. moveahead. moveahead. moveahead. moveahead. moveahead. moveahead. moveahead. What is you next step?<|endoftext|>',\n",
       "  '<|endoftext|>You see: <|image|>. Task: look at the clock under the lamp go to the table with the safe pick up the clock take the clock to the desk turn on the lamp. Your previous actions: lookdown. rotateleft. moveahead. moveahead. rotateright. moveahead. moveahead. moveahead. moveahead. moveahead. moveahead. moveahead. moveahead. pickupobject. rotateright. rotateright. moveahead. moveahead. moveahead. rotateleft. moveahead. moveahead. moveahead. moveahead. moveahead. moveahead. moveahead. moveahead. What is you next step?<|endoftext|>',\n",
       "  '<|endoftext|>You see: <|image|>. Task: look at the clock under the lamp go to the table with the safe pick up the clock take the clock to the desk turn on the lamp. Your previous actions: lookdown. rotateleft. moveahead. moveahead. rotateright. moveahead. moveahead. moveahead. moveahead. moveahead. moveahead. moveahead. moveahead. pickupobject. rotateright. rotateright. moveahead. moveahead. moveahead. rotateleft. moveahead. moveahead. moveahead. moveahead. moveahead. moveahead. moveahead. moveahead. moveahead. What is you next step?<|endoftext|>',\n",
       "  '<|endoftext|>You see: <|image|>. Task: look at the clock under the lamp go to the table with the safe pick up the clock take the clock to the desk turn on the lamp. Your previous actions: lookdown. rotateleft. moveahead. moveahead. rotateright. moveahead. moveahead. moveahead. moveahead. moveahead. moveahead. moveahead. moveahead. pickupobject. rotateright. rotateright. moveahead. moveahead. moveahead. rotateleft. moveahead. moveahead. moveahead. moveahead. moveahead. moveahead. moveahead. moveahead. moveahead. moveahead. What is you next step?<|endoftext|>',\n",
       "  '<|endoftext|>You see: <|image|>. Task: look at the clock under the lamp go to the table with the safe pick up the clock take the clock to the desk turn on the lamp. Your previous actions: lookdown. rotateleft. moveahead. moveahead. rotateright. moveahead. moveahead. moveahead. moveahead. moveahead. moveahead. moveahead. moveahead. pickupobject. rotateright. rotateright. moveahead. moveahead. moveahead. rotateleft. moveahead. moveahead. moveahead. moveahead. moveahead. moveahead. moveahead. moveahead. moveahead. moveahead. moveahead. What is you next step?<|endoftext|>',\n",
       "  '<|endoftext|>You see: <|image|>. Task: look at the clock under the lamp go to the table with the safe pick up the clock take the clock to the desk turn on the lamp. Your previous actions: lookdown. rotateleft. moveahead. moveahead. rotateright. moveahead. moveahead. moveahead. moveahead. moveahead. moveahead. moveahead. moveahead. pickupobject. rotateright. rotateright. moveahead. moveahead. moveahead. rotateleft. moveahead. moveahead. moveahead. moveahead. moveahead. moveahead. moveahead. moveahead. moveahead. moveahead. moveahead. moveahead. What is you next step?<|endoftext|>',\n",
       "  '<|endoftext|>You see: <|image|>. Task: look at the clock under the lamp go to the table with the safe pick up the clock take the clock to the desk turn on the lamp. Your previous actions: lookdown. rotateleft. moveahead. moveahead. rotateright. moveahead. moveahead. moveahead. moveahead. moveahead. moveahead. moveahead. moveahead. pickupobject. rotateright. rotateright. moveahead. moveahead. moveahead. rotateleft. moveahead. moveahead. moveahead. moveahead. moveahead. moveahead. moveahead. moveahead. moveahead. moveahead. moveahead. moveahead. rotateleft. What is you next step?<|endoftext|>',\n",
       "  '<|endoftext|>You see: <|image|>. Task: look at the clock under the lamp go to the table with the safe pick up the clock take the clock to the desk turn on the lamp. Your previous actions: lookdown. rotateleft. moveahead. moveahead. rotateright. moveahead. moveahead. moveahead. moveahead. moveahead. moveahead. moveahead. moveahead. pickupobject. rotateright. rotateright. moveahead. moveahead. moveahead. rotateleft. moveahead. moveahead. moveahead. moveahead. moveahead. moveahead. moveahead. moveahead. moveahead. moveahead. moveahead. moveahead. rotateleft. moveahead. What is you next step?<|endoftext|>',\n",
       "  '<|endoftext|>You see: <|image|>. Task: look at the clock under the lamp go to the table with the safe pick up the clock take the clock to the desk turn on the lamp. Your previous actions: lookdown. rotateleft. moveahead. moveahead. rotateright. moveahead. moveahead. moveahead. moveahead. moveahead. moveahead. moveahead. moveahead. pickupobject. rotateright. rotateright. moveahead. moveahead. moveahead. rotateleft. moveahead. moveahead. moveahead. moveahead. moveahead. moveahead. moveahead. moveahead. moveahead. moveahead. moveahead. moveahead. rotateleft. moveahead. moveahead. What is you next step?<|endoftext|>',\n",
       "  '<|endoftext|>You see: <|image|>. Task: look at the clock under the lamp go to the table with the safe pick up the clock take the clock to the desk turn on the lamp. Your previous actions: lookdown. rotateleft. moveahead. moveahead. rotateright. moveahead. moveahead. moveahead. moveahead. moveahead. moveahead. moveahead. moveahead. pickupobject. rotateright. rotateright. moveahead. moveahead. moveahead. rotateleft. moveahead. moveahead. moveahead. moveahead. moveahead. moveahead. moveahead. moveahead. moveahead. moveahead. moveahead. moveahead. rotateleft. moveahead. moveahead. moveahead. What is you next step?<|endoftext|>',\n",
       "  '<|endoftext|>You see: <|image|>. Task: look at the clock under the lamp go to the table with the safe pick up the clock take the clock to the desk turn on the lamp. Your previous actions: lookdown. rotateleft. moveahead. moveahead. rotateright. moveahead. moveahead. moveahead. moveahead. moveahead. moveahead. moveahead. moveahead. pickupobject. rotateright. rotateright. moveahead. moveahead. moveahead. rotateleft. moveahead. moveahead. moveahead. moveahead. moveahead. moveahead. moveahead. moveahead. moveahead. moveahead. moveahead. moveahead. rotateleft. moveahead. moveahead. moveahead. moveahead. What is you next step?<|endoftext|>',\n",
       "  '<|endoftext|>You see: <|image|>. Task: look at the clock under the lamp go to the table with the safe pick up the clock take the clock to the desk turn on the lamp. Your previous actions: lookdown. rotateleft. moveahead. moveahead. rotateright. moveahead. moveahead. moveahead. moveahead. moveahead. moveahead. moveahead. moveahead. pickupobject. rotateright. rotateright. moveahead. moveahead. moveahead. rotateleft. moveahead. moveahead. moveahead. moveahead. moveahead. moveahead. moveahead. moveahead. moveahead. moveahead. moveahead. moveahead. rotateleft. moveahead. moveahead. moveahead. moveahead. rotateright. What is you next step?<|endoftext|>',\n",
       "  '<|endoftext|>You see: <|image|>. Task: look at the clock under the lamp go to the table with the safe pick up the clock take the clock to the desk turn on the lamp. Your previous actions: lookdown. rotateleft. moveahead. moveahead. rotateright. moveahead. moveahead. moveahead. moveahead. moveahead. moveahead. moveahead. moveahead. pickupobject. rotateright. rotateright. moveahead. moveahead. moveahead. rotateleft. moveahead. moveahead. moveahead. moveahead. moveahead. moveahead. moveahead. moveahead. moveahead. moveahead. moveahead. moveahead. rotateleft. moveahead. moveahead. moveahead. moveahead. rotateright. moveahead. What is you next step?<|endoftext|>',\n",
       "  '<|endoftext|>You see: <|image|>. Task: look at the clock under the lamp go to the table with the safe pick up the clock take the clock to the desk turn on the lamp. Your previous actions: lookdown. rotateleft. moveahead. moveahead. rotateright. moveahead. moveahead. moveahead. moveahead. moveahead. moveahead. moveahead. moveahead. pickupobject. rotateright. rotateright. moveahead. moveahead. moveahead. rotateleft. moveahead. moveahead. moveahead. moveahead. moveahead. moveahead. moveahead. moveahead. moveahead. moveahead. moveahead. moveahead. rotateleft. moveahead. moveahead. moveahead. moveahead. rotateright. moveahead. moveahead. What is you next step?<|endoftext|>',\n",
       "  '<|endoftext|>You see: <|image|>. Task: look at the clock under the lamp go to the table with the safe pick up the clock take the clock to the desk turn on the lamp. Your previous actions: lookdown. rotateleft. moveahead. moveahead. rotateright. moveahead. moveahead. moveahead. moveahead. moveahead. moveahead. moveahead. moveahead. pickupobject. rotateright. rotateright. moveahead. moveahead. moveahead. rotateleft. moveahead. moveahead. moveahead. moveahead. moveahead. moveahead. moveahead. moveahead. moveahead. moveahead. moveahead. moveahead. rotateleft. moveahead. moveahead. moveahead. moveahead. rotateright. moveahead. moveahead. moveahead. What is you next step?<|endoftext|>',\n",
       "  '<|endoftext|>You see: <|image|>. Task: look at the clock under the lamp go to the table with the safe pick up the clock take the clock to the desk turn on the lamp. Your previous actions: lookdown. rotateleft. moveahead. moveahead. rotateright. moveahead. moveahead. moveahead. moveahead. moveahead. moveahead. moveahead. moveahead. pickupobject. rotateright. rotateright. moveahead. moveahead. moveahead. rotateleft. moveahead. moveahead. moveahead. moveahead. moveahead. moveahead. moveahead. moveahead. moveahead. moveahead. moveahead. moveahead. rotateleft. moveahead. moveahead. moveahead. moveahead. rotateright. moveahead. moveahead. moveahead. lookup. What is you next step?<|endoftext|>',\n",
       "  '<|endoftext|>You see: <|image|>. Task: look at an alarm clock by the light of a lamp. walk ahead and slightly left to the dresser. pick up the alarm clock on the dresser. turn right and walk around the couch, then veer left to the desk. turn on the desk lamp.. Your previous actions: . What is you next step?<|endoftext|>',\n",
       "  '<|endoftext|>You see: <|image|>. Task: look at an alarm clock by the light of a lamp. walk ahead and slightly left to the dresser. pick up the alarm clock on the dresser. turn right and walk around the couch, then veer left to the desk. turn on the desk lamp.. Your previous actions: lookdown. What is you next step?<|endoftext|>',\n",
       "  '<|endoftext|>You see: <|image|>. Task: look at an alarm clock by the light of a lamp. walk ahead and slightly left to the dresser. pick up the alarm clock on the dresser. turn right and walk around the couch, then veer left to the desk. turn on the desk lamp.. Your previous actions: lookdown. rotateleft. What is you next step?<|endoftext|>',\n",
       "  '<|endoftext|>You see: <|image|>. Task: look at an alarm clock by the light of a lamp. walk ahead and slightly left to the dresser. pick up the alarm clock on the dresser. turn right and walk around the couch, then veer left to the desk. turn on the desk lamp.. Your previous actions: lookdown. rotateleft. moveahead. What is you next step?<|endoftext|>',\n",
       "  '<|endoftext|>You see: <|image|>. Task: look at an alarm clock by the light of a lamp. walk ahead and slightly left to the dresser. pick up the alarm clock on the dresser. turn right and walk around the couch, then veer left to the desk. turn on the desk lamp.. Your previous actions: lookdown. rotateleft. moveahead. moveahead. What is you next step?<|endoftext|>',\n",
       "  '<|endoftext|>You see: <|image|>. Task: look at an alarm clock by the light of a lamp. walk ahead and slightly left to the dresser. pick up the alarm clock on the dresser. turn right and walk around the couch, then veer left to the desk. turn on the desk lamp.. Your previous actions: lookdown. rotateleft. moveahead. moveahead. rotateright. What is you next step?<|endoftext|>',\n",
       "  '<|endoftext|>You see: <|image|>. Task: look at an alarm clock by the light of a lamp. walk ahead and slightly left to the dresser. pick up the alarm clock on the dresser. turn right and walk around the couch, then veer left to the desk. turn on the desk lamp.. Your previous actions: lookdown. rotateleft. moveahead. moveahead. rotateright. moveahead. What is you next step?<|endoftext|>',\n",
       "  '<|endoftext|>You see: <|image|>. Task: look at an alarm clock by the light of a lamp. walk ahead and slightly left to the dresser. pick up the alarm clock on the dresser. turn right and walk around the couch, then veer left to the desk. turn on the desk lamp.. Your previous actions: lookdown. rotateleft. moveahead. moveahead. rotateright. moveahead. moveahead. What is you next step?<|endoftext|>',\n",
       "  '<|endoftext|>You see: <|image|>. Task: look at an alarm clock by the light of a lamp. walk ahead and slightly left to the dresser. pick up the alarm clock on the dresser. turn right and walk around the couch, then veer left to the desk. turn on the desk lamp.. Your previous actions: lookdown. rotateleft. moveahead. moveahead. rotateright. moveahead. moveahead. moveahead. What is you next step?<|endoftext|>',\n",
       "  '<|endoftext|>You see: <|image|>. Task: look at an alarm clock by the light of a lamp. walk ahead and slightly left to the dresser. pick up the alarm clock on the dresser. turn right and walk around the couch, then veer left to the desk. turn on the desk lamp.. Your previous actions: lookdown. rotateleft. moveahead. moveahead. rotateright. moveahead. moveahead. moveahead. moveahead. What is you next step?<|endoftext|>',\n",
       "  '<|endoftext|>You see: <|image|>. Task: look at an alarm clock by the light of a lamp. walk ahead and slightly left to the dresser. pick up the alarm clock on the dresser. turn right and walk around the couch, then veer left to the desk. turn on the desk lamp.. Your previous actions: lookdown. rotateleft. moveahead. moveahead. rotateright. moveahead. moveahead. moveahead. moveahead. moveahead. What is you next step?<|endoftext|>',\n",
       "  '<|endoftext|>You see: <|image|>. Task: look at an alarm clock by the light of a lamp. walk ahead and slightly left to the dresser. pick up the alarm clock on the dresser. turn right and walk around the couch, then veer left to the desk. turn on the desk lamp.. Your previous actions: lookdown. rotateleft. moveahead. moveahead. rotateright. moveahead. moveahead. moveahead. moveahead. moveahead. moveahead. What is you next step?<|endoftext|>',\n",
       "  '<|endoftext|>You see: <|image|>. Task: look at an alarm clock by the light of a lamp. walk ahead and slightly left to the dresser. pick up the alarm clock on the dresser. turn right and walk around the couch, then veer left to the desk. turn on the desk lamp.. Your previous actions: lookdown. rotateleft. moveahead. moveahead. rotateright. moveahead. moveahead. moveahead. moveahead. moveahead. moveahead. moveahead. What is you next step?<|endoftext|>',\n",
       "  '<|endoftext|>You see: <|image|>. Task: look at an alarm clock by the light of a lamp. walk ahead and slightly left to the dresser. pick up the alarm clock on the dresser. turn right and walk around the couch, then veer left to the desk. turn on the desk lamp.. Your previous actions: lookdown. rotateleft. moveahead. moveahead. rotateright. moveahead. moveahead. moveahead. moveahead. moveahead. moveahead. moveahead. moveahead. What is you next step?<|endoftext|>',\n",
       "  '<|endoftext|>You see: <|image|>. Task: look at an alarm clock by the light of a lamp. walk ahead and slightly left to the dresser. pick up the alarm clock on the dresser. turn right and walk around the couch, then veer left to the desk. turn on the desk lamp.. Your previous actions: lookdown. rotateleft. moveahead. moveahead. rotateright. moveahead. moveahead. moveahead. moveahead. moveahead. moveahead. moveahead. moveahead. pickupobject. What is you next step?<|endoftext|>',\n",
       "  '<|endoftext|>You see: <|image|>. Task: look at an alarm clock by the light of a lamp. walk ahead and slightly left to the dresser. pick up the alarm clock on the dresser. turn right and walk around the couch, then veer left to the desk. turn on the desk lamp.. Your previous actions: lookdown. rotateleft. moveahead. moveahead. rotateright. moveahead. moveahead. moveahead. moveahead. moveahead. moveahead. moveahead. moveahead. pickupobject. rotateright. What is you next step?<|endoftext|>',\n",
       "  '<|endoftext|>You see: <|image|>. Task: look at an alarm clock by the light of a lamp. walk ahead and slightly left to the dresser. pick up the alarm clock on the dresser. turn right and walk around the couch, then veer left to the desk. turn on the desk lamp.. Your previous actions: lookdown. rotateleft. moveahead. moveahead. rotateright. moveahead. moveahead. moveahead. moveahead. moveahead. moveahead. moveahead. moveahead. pickupobject. rotateright. rotateright. What is you next step?<|endoftext|>',\n",
       "  '<|endoftext|>You see: <|image|>. Task: look at an alarm clock by the light of a lamp. walk ahead and slightly left to the dresser. pick up the alarm clock on the dresser. turn right and walk around the couch, then veer left to the desk. turn on the desk lamp.. Your previous actions: lookdown. rotateleft. moveahead. moveahead. rotateright. moveahead. moveahead. moveahead. moveahead. moveahead. moveahead. moveahead. moveahead. pickupobject. rotateright. rotateright. moveahead. What is you next step?<|endoftext|>',\n",
       "  '<|endoftext|>You see: <|image|>. Task: look at an alarm clock by the light of a lamp. walk ahead and slightly left to the dresser. pick up the alarm clock on the dresser. turn right and walk around the couch, then veer left to the desk. turn on the desk lamp.. Your previous actions: lookdown. rotateleft. moveahead. moveahead. rotateright. moveahead. moveahead. moveahead. moveahead. moveahead. moveahead. moveahead. moveahead. pickupobject. rotateright. rotateright. moveahead. moveahead. What is you next step?<|endoftext|>',\n",
       "  '<|endoftext|>You see: <|image|>. Task: look at an alarm clock by the light of a lamp. walk ahead and slightly left to the dresser. pick up the alarm clock on the dresser. turn right and walk around the couch, then veer left to the desk. turn on the desk lamp.. Your previous actions: lookdown. rotateleft. moveahead. moveahead. rotateright. moveahead. moveahead. moveahead. moveahead. moveahead. moveahead. moveahead. moveahead. pickupobject. rotateright. rotateright. moveahead. moveahead. moveahead. What is you next step?<|endoftext|>',\n",
       "  '<|endoftext|>You see: <|image|>. Task: look at an alarm clock by the light of a lamp. walk ahead and slightly left to the dresser. pick up the alarm clock on the dresser. turn right and walk around the couch, then veer left to the desk. turn on the desk lamp.. Your previous actions: lookdown. rotateleft. moveahead. moveahead. rotateright. moveahead. moveahead. moveahead. moveahead. moveahead. moveahead. moveahead. moveahead. pickupobject. rotateright. rotateright. moveahead. moveahead. moveahead. rotateleft. What is you next step?<|endoftext|>',\n",
       "  '<|endoftext|>You see: <|image|>. Task: look at an alarm clock by the light of a lamp. walk ahead and slightly left to the dresser. pick up the alarm clock on the dresser. turn right and walk around the couch, then veer left to the desk. turn on the desk lamp.. Your previous actions: lookdown. rotateleft. moveahead. moveahead. rotateright. moveahead. moveahead. moveahead. moveahead. moveahead. moveahead. moveahead. moveahead. pickupobject. rotateright. rotateright. moveahead. moveahead. moveahead. rotateleft. moveahead. What is you next step?<|endoftext|>',\n",
       "  '<|endoftext|>You see: <|image|>. Task: look at an alarm clock by the light of a lamp. walk ahead and slightly left to the dresser. pick up the alarm clock on the dresser. turn right and walk around the couch, then veer left to the desk. turn on the desk lamp.. Your previous actions: lookdown. rotateleft. moveahead. moveahead. rotateright. moveahead. moveahead. moveahead. moveahead. moveahead. moveahead. moveahead. moveahead. pickupobject. rotateright. rotateright. moveahead. moveahead. moveahead. rotateleft. moveahead. moveahead. What is you next step?<|endoftext|>',\n",
       "  '<|endoftext|>You see: <|image|>. Task: look at an alarm clock by the light of a lamp. walk ahead and slightly left to the dresser. pick up the alarm clock on the dresser. turn right and walk around the couch, then veer left to the desk. turn on the desk lamp.. Your previous actions: lookdown. rotateleft. moveahead. moveahead. rotateright. moveahead. moveahead. moveahead. moveahead. moveahead. moveahead. moveahead. moveahead. pickupobject. rotateright. rotateright. moveahead. moveahead. moveahead. rotateleft. moveahead. moveahead. moveahead. What is you next step?<|endoftext|>',\n",
       "  '<|endoftext|>You see: <|image|>. Task: look at an alarm clock by the light of a lamp. walk ahead and slightly left to the dresser. pick up the alarm clock on the dresser. turn right and walk around the couch, then veer left to the desk. turn on the desk lamp.. Your previous actions: lookdown. rotateleft. moveahead. moveahead. rotateright. moveahead. moveahead. moveahead. moveahead. moveahead. moveahead. moveahead. moveahead. pickupobject. rotateright. rotateright. moveahead. moveahead. moveahead. rotateleft. moveahead. moveahead. moveahead. moveahead. What is you next step?<|endoftext|>',\n",
       "  '<|endoftext|>You see: <|image|>. Task: look at an alarm clock by the light of a lamp. walk ahead and slightly left to the dresser. pick up the alarm clock on the dresser. turn right and walk around the couch, then veer left to the desk. turn on the desk lamp.. Your previous actions: lookdown. rotateleft. moveahead. moveahead. rotateright. moveahead. moveahead. moveahead. moveahead. moveahead. moveahead. moveahead. moveahead. pickupobject. rotateright. rotateright. moveahead. moveahead. moveahead. rotateleft. moveahead. moveahead. moveahead. moveahead. moveahead. What is you next step?<|endoftext|>',\n",
       "  '<|endoftext|>You see: <|image|>. Task: look at an alarm clock by the light of a lamp. walk ahead and slightly left to the dresser. pick up the alarm clock on the dresser. turn right and walk around the couch, then veer left to the desk. turn on the desk lamp.. Your previous actions: lookdown. rotateleft. moveahead. moveahead. rotateright. moveahead. moveahead. moveahead. moveahead. moveahead. moveahead. moveahead. moveahead. pickupobject. rotateright. rotateright. moveahead. moveahead. moveahead. rotateleft. moveahead. moveahead. moveahead. moveahead. moveahead. moveahead. What is you next step?<|endoftext|>',\n",
       "  '<|endoftext|>You see: <|image|>. Task: look at an alarm clock by the light of a lamp. walk ahead and slightly left to the dresser. pick up the alarm clock on the dresser. turn right and walk around the couch, then veer left to the desk. turn on the desk lamp.. Your previous actions: lookdown. rotateleft. moveahead. moveahead. rotateright. moveahead. moveahead. moveahead. moveahead. moveahead. moveahead. moveahead. moveahead. pickupobject. rotateright. rotateright. moveahead. moveahead. moveahead. rotateleft. moveahead. moveahead. moveahead. moveahead. moveahead. moveahead. moveahead. What is you next step?<|endoftext|>',\n",
       "  '<|endoftext|>You see: <|image|>. Task: look at an alarm clock by the light of a lamp. walk ahead and slightly left to the dresser. pick up the alarm clock on the dresser. turn right and walk around the couch, then veer left to the desk. turn on the desk lamp.. Your previous actions: lookdown. rotateleft. moveahead. moveahead. rotateright. moveahead. moveahead. moveahead. moveahead. moveahead. moveahead. moveahead. moveahead. pickupobject. rotateright. rotateright. moveahead. moveahead. moveahead. rotateleft. moveahead. moveahead. moveahead. moveahead. moveahead. moveahead. moveahead. moveahead. What is you next step?<|endoftext|>',\n",
       "  '<|endoftext|>You see: <|image|>. Task: look at an alarm clock by the light of a lamp. walk ahead and slightly left to the dresser. pick up the alarm clock on the dresser. turn right and walk around the couch, then veer left to the desk. turn on the desk lamp.. Your previous actions: lookdown. rotateleft. moveahead. moveahead. rotateright. moveahead. moveahead. moveahead. moveahead. moveahead. moveahead. moveahead. moveahead. pickupobject. rotateright. rotateright. moveahead. moveahead. moveahead. rotateleft. moveahead. moveahead. moveahead. moveahead. moveahead. moveahead. moveahead. moveahead. moveahead. What is you next step?<|endoftext|>',\n",
       "  '<|endoftext|>You see: <|image|>. Task: look at an alarm clock by the light of a lamp. walk ahead and slightly left to the dresser. pick up the alarm clock on the dresser. turn right and walk around the couch, then veer left to the desk. turn on the desk lamp.. Your previous actions: lookdown. rotateleft. moveahead. moveahead. rotateright. moveahead. moveahead. moveahead. moveahead. moveahead. moveahead. moveahead. moveahead. pickupobject. rotateright. rotateright. moveahead. moveahead. moveahead. rotateleft. moveahead. moveahead. moveahead. moveahead. moveahead. moveahead. moveahead. moveahead. moveahead. moveahead. What is you next step?<|endoftext|>',\n",
       "  '<|endoftext|>You see: <|image|>. Task: look at an alarm clock by the light of a lamp. walk ahead and slightly left to the dresser. pick up the alarm clock on the dresser. turn right and walk around the couch, then veer left to the desk. turn on the desk lamp.. Your previous actions: lookdown. rotateleft. moveahead. moveahead. rotateright. moveahead. moveahead. moveahead. moveahead. moveahead. moveahead. moveahead. moveahead. pickupobject. rotateright. rotateright. moveahead. moveahead. moveahead. rotateleft. moveahead. moveahead. moveahead. moveahead. moveahead. moveahead. moveahead. moveahead. moveahead. moveahead. moveahead. What is you next step?<|endoftext|>',\n",
       "  '<|endoftext|>You see: <|image|>. Task: look at an alarm clock by the light of a lamp. walk ahead and slightly left to the dresser. pick up the alarm clock on the dresser. turn right and walk around the couch, then veer left to the desk. turn on the desk lamp.. Your previous actions: lookdown. rotateleft. moveahead. moveahead. rotateright. moveahead. moveahead. moveahead. moveahead. moveahead. moveahead. moveahead. moveahead. pickupobject. rotateright. rotateright. moveahead. moveahead. moveahead. rotateleft. moveahead. moveahead. moveahead. moveahead. moveahead. moveahead. moveahead. moveahead. moveahead. moveahead. moveahead. moveahead. What is you next step?<|endoftext|>',\n",
       "  '<|endoftext|>You see: <|image|>. Task: look at an alarm clock by the light of a lamp. walk ahead and slightly left to the dresser. pick up the alarm clock on the dresser. turn right and walk around the couch, then veer left to the desk. turn on the desk lamp.. Your previous actions: lookdown. rotateleft. moveahead. moveahead. rotateright. moveahead. moveahead. moveahead. moveahead. moveahead. moveahead. moveahead. moveahead. pickupobject. rotateright. rotateright. moveahead. moveahead. moveahead. rotateleft. moveahead. moveahead. moveahead. moveahead. moveahead. moveahead. moveahead. moveahead. moveahead. moveahead. moveahead. moveahead. rotateleft. What is you next step?<|endoftext|>',\n",
       "  '<|endoftext|>You see: <|image|>. Task: look at an alarm clock by the light of a lamp. walk ahead and slightly left to the dresser. pick up the alarm clock on the dresser. turn right and walk around the couch, then veer left to the desk. turn on the desk lamp.. Your previous actions: lookdown. rotateleft. moveahead. moveahead. rotateright. moveahead. moveahead. moveahead. moveahead. moveahead. moveahead. moveahead. moveahead. pickupobject. rotateright. rotateright. moveahead. moveahead. moveahead. rotateleft. moveahead. moveahead. moveahead. moveahead. moveahead. moveahead. moveahead. moveahead. moveahead. moveahead. moveahead. moveahead. rotateleft. moveahead. What is you next step?<|endoftext|>',\n",
       "  '<|endoftext|>You see: <|image|>. Task: look at an alarm clock by the light of a lamp. walk ahead and slightly left to the dresser. pick up the alarm clock on the dresser. turn right and walk around the couch, then veer left to the desk. turn on the desk lamp.. Your previous actions: lookdown. rotateleft. moveahead. moveahead. rotateright. moveahead. moveahead. moveahead. moveahead. moveahead. moveahead. moveahead. moveahead. pickupobject. rotateright. rotateright. moveahead. moveahead. moveahead. rotateleft. moveahead. moveahead. moveahead. moveahead. moveahead. moveahead. moveahead. moveahead. moveahead. moveahead. moveahead. moveahead. rotateleft. moveahead. moveahead. What is you next step?<|endoftext|>',\n",
       "  '<|endoftext|>You see: <|image|>. Task: look at an alarm clock by the light of a lamp. walk ahead and slightly left to the dresser. pick up the alarm clock on the dresser. turn right and walk around the couch, then veer left to the desk. turn on the desk lamp.. Your previous actions: lookdown. rotateleft. moveahead. moveahead. rotateright. moveahead. moveahead. moveahead. moveahead. moveahead. moveahead. moveahead. moveahead. pickupobject. rotateright. rotateright. moveahead. moveahead. moveahead. rotateleft. moveahead. moveahead. moveahead. moveahead. moveahead. moveahead. moveahead. moveahead. moveahead. moveahead. moveahead. moveahead. rotateleft. moveahead. moveahead. moveahead. What is you next step?<|endoftext|>',\n",
       "  '<|endoftext|>You see: <|image|>. Task: look at an alarm clock by the light of a lamp. walk ahead and slightly left to the dresser. pick up the alarm clock on the dresser. turn right and walk around the couch, then veer left to the desk. turn on the desk lamp.. Your previous actions: lookdown. rotateleft. moveahead. moveahead. rotateright. moveahead. moveahead. moveahead. moveahead. moveahead. moveahead. moveahead. moveahead. pickupobject. rotateright. rotateright. moveahead. moveahead. moveahead. rotateleft. moveahead. moveahead. moveahead. moveahead. moveahead. moveahead. moveahead. moveahead. moveahead. moveahead. moveahead. moveahead. rotateleft. moveahead. moveahead. moveahead. moveahead. What is you next step?<|endoftext|>',\n",
       "  '<|endoftext|>You see: <|image|>. Task: look at an alarm clock by the light of a lamp. walk ahead and slightly left to the dresser. pick up the alarm clock on the dresser. turn right and walk around the couch, then veer left to the desk. turn on the desk lamp.. Your previous actions: lookdown. rotateleft. moveahead. moveahead. rotateright. moveahead. moveahead. moveahead. moveahead. moveahead. moveahead. moveahead. moveahead. pickupobject. rotateright. rotateright. moveahead. moveahead. moveahead. rotateleft. moveahead. moveahead. moveahead. moveahead. moveahead. moveahead. moveahead. moveahead. moveahead. moveahead. moveahead. moveahead. rotateleft. moveahead. moveahead. moveahead. moveahead. rotateright. What is you next step?<|endoftext|>',\n",
       "  '<|endoftext|>You see: <|image|>. Task: look at an alarm clock by the light of a lamp. walk ahead and slightly left to the dresser. pick up the alarm clock on the dresser. turn right and walk around the couch, then veer left to the desk. turn on the desk lamp.. Your previous actions: lookdown. rotateleft. moveahead. moveahead. rotateright. moveahead. moveahead. moveahead. moveahead. moveahead. moveahead. moveahead. moveahead. pickupobject. rotateright. rotateright. moveahead. moveahead. moveahead. rotateleft. moveahead. moveahead. moveahead. moveahead. moveahead. moveahead. moveahead. moveahead. moveahead. moveahead. moveahead. moveahead. rotateleft. moveahead. moveahead. moveahead. moveahead. rotateright. moveahead. What is you next step?<|endoftext|>',\n",
       "  '<|endoftext|>You see: <|image|>. Task: look at an alarm clock by the light of a lamp. walk ahead and slightly left to the dresser. pick up the alarm clock on the dresser. turn right and walk around the couch, then veer left to the desk. turn on the desk lamp.. Your previous actions: lookdown. rotateleft. moveahead. moveahead. rotateright. moveahead. moveahead. moveahead. moveahead. moveahead. moveahead. moveahead. moveahead. pickupobject. rotateright. rotateright. moveahead. moveahead. moveahead. rotateleft. moveahead. moveahead. moveahead. moveahead. moveahead. moveahead. moveahead. moveahead. moveahead. moveahead. moveahead. moveahead. rotateleft. moveahead. moveahead. moveahead. moveahead. rotateright. moveahead. moveahead. What is you next step?<|endoftext|>',\n",
       "  '<|endoftext|>You see: <|image|>. Task: look at an alarm clock by the light of a lamp. walk ahead and slightly left to the dresser. pick up the alarm clock on the dresser. turn right and walk around the couch, then veer left to the desk. turn on the desk lamp.. Your previous actions: lookdown. rotateleft. moveahead. moveahead. rotateright. moveahead. moveahead. moveahead. moveahead. moveahead. moveahead. moveahead. moveahead. pickupobject. rotateright. rotateright. moveahead. moveahead. moveahead. rotateleft. moveahead. moveahead. moveahead. moveahead. moveahead. moveahead. moveahead. moveahead. moveahead. moveahead. moveahead. moveahead. rotateleft. moveahead. moveahead. moveahead. moveahead. rotateright. moveahead. moveahead. moveahead. What is you next step?<|endoftext|>',\n",
       "  '<|endoftext|>You see: <|image|>. Task: look at an alarm clock by the light of a lamp. walk ahead and slightly left to the dresser. pick up the alarm clock on the dresser. turn right and walk around the couch, then veer left to the desk. turn on the desk lamp.. Your previous actions: lookdown. rotateleft. moveahead. moveahead. rotateright. moveahead. moveahead. moveahead. moveahead. moveahead. moveahead. moveahead. moveahead. pickupobject. rotateright. rotateright. moveahead. moveahead. moveahead. rotateleft. moveahead. moveahead. moveahead. moveahead. moveahead. moveahead. moveahead. moveahead. moveahead. moveahead. moveahead. moveahead. rotateleft. moveahead. moveahead. moveahead. moveahead. rotateright. moveahead. moveahead. moveahead. lookup. What is you next step?<|endoftext|>',\n",
       "  '<|endoftext|>You see: <|image|>. Task: look at an alarm clock by the light of a lamp. walk straight ahead to the dresser. pick up the alarm clock on the dresser. turn right and walk past the couch to the desk. turn on the desk lamp.. Your previous actions: . What is you next step?<|endoftext|>',\n",
       "  '<|endoftext|>You see: <|image|>. Task: look at an alarm clock by the light of a lamp. walk straight ahead to the dresser. pick up the alarm clock on the dresser. turn right and walk past the couch to the desk. turn on the desk lamp.. Your previous actions: lookdown. What is you next step?<|endoftext|>',\n",
       "  '<|endoftext|>You see: <|image|>. Task: look at an alarm clock by the light of a lamp. walk straight ahead to the dresser. pick up the alarm clock on the dresser. turn right and walk past the couch to the desk. turn on the desk lamp.. Your previous actions: lookdown. rotateleft. What is you next step?<|endoftext|>',\n",
       "  '<|endoftext|>You see: <|image|>. Task: look at an alarm clock by the light of a lamp. walk straight ahead to the dresser. pick up the alarm clock on the dresser. turn right and walk past the couch to the desk. turn on the desk lamp.. Your previous actions: lookdown. rotateleft. moveahead. What is you next step?<|endoftext|>',\n",
       "  '<|endoftext|>You see: <|image|>. Task: look at an alarm clock by the light of a lamp. walk straight ahead to the dresser. pick up the alarm clock on the dresser. turn right and walk past the couch to the desk. turn on the desk lamp.. Your previous actions: lookdown. rotateleft. moveahead. moveahead. What is you next step?<|endoftext|>',\n",
       "  '<|endoftext|>You see: <|image|>. Task: look at an alarm clock by the light of a lamp. walk straight ahead to the dresser. pick up the alarm clock on the dresser. turn right and walk past the couch to the desk. turn on the desk lamp.. Your previous actions: lookdown. rotateleft. moveahead. moveahead. rotateright. What is you next step?<|endoftext|>',\n",
       "  '<|endoftext|>You see: <|image|>. Task: look at an alarm clock by the light of a lamp. walk straight ahead to the dresser. pick up the alarm clock on the dresser. turn right and walk past the couch to the desk. turn on the desk lamp.. Your previous actions: lookdown. rotateleft. moveahead. moveahead. rotateright. moveahead. What is you next step?<|endoftext|>',\n",
       "  '<|endoftext|>You see: <|image|>. Task: look at an alarm clock by the light of a lamp. walk straight ahead to the dresser. pick up the alarm clock on the dresser. turn right and walk past the couch to the desk. turn on the desk lamp.. Your previous actions: lookdown. rotateleft. moveahead. moveahead. rotateright. moveahead. moveahead. What is you next step?<|endoftext|>',\n",
       "  '<|endoftext|>You see: <|image|>. Task: look at an alarm clock by the light of a lamp. walk straight ahead to the dresser. pick up the alarm clock on the dresser. turn right and walk past the couch to the desk. turn on the desk lamp.. Your previous actions: lookdown. rotateleft. moveahead. moveahead. rotateright. moveahead. moveahead. moveahead. What is you next step?<|endoftext|>',\n",
       "  '<|endoftext|>You see: <|image|>. Task: look at an alarm clock by the light of a lamp. walk straight ahead to the dresser. pick up the alarm clock on the dresser. turn right and walk past the couch to the desk. turn on the desk lamp.. Your previous actions: lookdown. rotateleft. moveahead. moveahead. rotateright. moveahead. moveahead. moveahead. moveahead. What is you next step?<|endoftext|>',\n",
       "  '<|endoftext|>You see: <|image|>. Task: look at an alarm clock by the light of a lamp. walk straight ahead to the dresser. pick up the alarm clock on the dresser. turn right and walk past the couch to the desk. turn on the desk lamp.. Your previous actions: lookdown. rotateleft. moveahead. moveahead. rotateright. moveahead. moveahead. moveahead. moveahead. moveahead. What is you next step?<|endoftext|>',\n",
       "  '<|endoftext|>You see: <|image|>. Task: look at an alarm clock by the light of a lamp. walk straight ahead to the dresser. pick up the alarm clock on the dresser. turn right and walk past the couch to the desk. turn on the desk lamp.. Your previous actions: lookdown. rotateleft. moveahead. moveahead. rotateright. moveahead. moveahead. moveahead. moveahead. moveahead. moveahead. What is you next step?<|endoftext|>',\n",
       "  '<|endoftext|>You see: <|image|>. Task: look at an alarm clock by the light of a lamp. walk straight ahead to the dresser. pick up the alarm clock on the dresser. turn right and walk past the couch to the desk. turn on the desk lamp.. Your previous actions: lookdown. rotateleft. moveahead. moveahead. rotateright. moveahead. moveahead. moveahead. moveahead. moveahead. moveahead. moveahead. What is you next step?<|endoftext|>',\n",
       "  '<|endoftext|>You see: <|image|>. Task: look at an alarm clock by the light of a lamp. walk straight ahead to the dresser. pick up the alarm clock on the dresser. turn right and walk past the couch to the desk. turn on the desk lamp.. Your previous actions: lookdown. rotateleft. moveahead. moveahead. rotateright. moveahead. moveahead. moveahead. moveahead. moveahead. moveahead. moveahead. moveahead. What is you next step?<|endoftext|>',\n",
       "  '<|endoftext|>You see: <|image|>. Task: look at an alarm clock by the light of a lamp. walk straight ahead to the dresser. pick up the alarm clock on the dresser. turn right and walk past the couch to the desk. turn on the desk lamp.. Your previous actions: lookdown. rotateleft. moveahead. moveahead. rotateright. moveahead. moveahead. moveahead. moveahead. moveahead. moveahead. moveahead. moveahead. pickupobject. What is you next step?<|endoftext|>',\n",
       "  '<|endoftext|>You see: <|image|>. Task: look at an alarm clock by the light of a lamp. walk straight ahead to the dresser. pick up the alarm clock on the dresser. turn right and walk past the couch to the desk. turn on the desk lamp.. Your previous actions: lookdown. rotateleft. moveahead. moveahead. rotateright. moveahead. moveahead. moveahead. moveahead. moveahead. moveahead. moveahead. moveahead. pickupobject. rotateright. What is you next step?<|endoftext|>',\n",
       "  '<|endoftext|>You see: <|image|>. Task: look at an alarm clock by the light of a lamp. walk straight ahead to the dresser. pick up the alarm clock on the dresser. turn right and walk past the couch to the desk. turn on the desk lamp.. Your previous actions: lookdown. rotateleft. moveahead. moveahead. rotateright. moveahead. moveahead. moveahead. moveahead. moveahead. moveahead. moveahead. moveahead. pickupobject. rotateright. rotateright. What is you next step?<|endoftext|>',\n",
       "  '<|endoftext|>You see: <|image|>. Task: look at an alarm clock by the light of a lamp. walk straight ahead to the dresser. pick up the alarm clock on the dresser. turn right and walk past the couch to the desk. turn on the desk lamp.. Your previous actions: lookdown. rotateleft. moveahead. moveahead. rotateright. moveahead. moveahead. moveahead. moveahead. moveahead. moveahead. moveahead. moveahead. pickupobject. rotateright. rotateright. moveahead. What is you next step?<|endoftext|>',\n",
       "  '<|endoftext|>You see: <|image|>. Task: look at an alarm clock by the light of a lamp. walk straight ahead to the dresser. pick up the alarm clock on the dresser. turn right and walk past the couch to the desk. turn on the desk lamp.. Your previous actions: lookdown. rotateleft. moveahead. moveahead. rotateright. moveahead. moveahead. moveahead. moveahead. moveahead. moveahead. moveahead. moveahead. pickupobject. rotateright. rotateright. moveahead. moveahead. What is you next step?<|endoftext|>',\n",
       "  '<|endoftext|>You see: <|image|>. Task: look at an alarm clock by the light of a lamp. walk straight ahead to the dresser. pick up the alarm clock on the dresser. turn right and walk past the couch to the desk. turn on the desk lamp.. Your previous actions: lookdown. rotateleft. moveahead. moveahead. rotateright. moveahead. moveahead. moveahead. moveahead. moveahead. moveahead. moveahead. moveahead. pickupobject. rotateright. rotateright. moveahead. moveahead. moveahead. What is you next step?<|endoftext|>',\n",
       "  '<|endoftext|>You see: <|image|>. Task: look at an alarm clock by the light of a lamp. walk straight ahead to the dresser. pick up the alarm clock on the dresser. turn right and walk past the couch to the desk. turn on the desk lamp.. Your previous actions: lookdown. rotateleft. moveahead. moveahead. rotateright. moveahead. moveahead. moveahead. moveahead. moveahead. moveahead. moveahead. moveahead. pickupobject. rotateright. rotateright. moveahead. moveahead. moveahead. rotateleft. What is you next step?<|endoftext|>',\n",
       "  '<|endoftext|>You see: <|image|>. Task: look at an alarm clock by the light of a lamp. walk straight ahead to the dresser. pick up the alarm clock on the dresser. turn right and walk past the couch to the desk. turn on the desk lamp.. Your previous actions: lookdown. rotateleft. moveahead. moveahead. rotateright. moveahead. moveahead. moveahead. moveahead. moveahead. moveahead. moveahead. moveahead. pickupobject. rotateright. rotateright. moveahead. moveahead. moveahead. rotateleft. moveahead. What is you next step?<|endoftext|>',\n",
       "  '<|endoftext|>You see: <|image|>. Task: look at an alarm clock by the light of a lamp. walk straight ahead to the dresser. pick up the alarm clock on the dresser. turn right and walk past the couch to the desk. turn on the desk lamp.. Your previous actions: lookdown. rotateleft. moveahead. moveahead. rotateright. moveahead. moveahead. moveahead. moveahead. moveahead. moveahead. moveahead. moveahead. pickupobject. rotateright. rotateright. moveahead. moveahead. moveahead. rotateleft. moveahead. moveahead. What is you next step?<|endoftext|>',\n",
       "  '<|endoftext|>You see: <|image|>. Task: look at an alarm clock by the light of a lamp. walk straight ahead to the dresser. pick up the alarm clock on the dresser. turn right and walk past the couch to the desk. turn on the desk lamp.. Your previous actions: lookdown. rotateleft. moveahead. moveahead. rotateright. moveahead. moveahead. moveahead. moveahead. moveahead. moveahead. moveahead. moveahead. pickupobject. rotateright. rotateright. moveahead. moveahead. moveahead. rotateleft. moveahead. moveahead. moveahead. What is you next step?<|endoftext|>',\n",
       "  '<|endoftext|>You see: <|image|>. Task: look at an alarm clock by the light of a lamp. walk straight ahead to the dresser. pick up the alarm clock on the dresser. turn right and walk past the couch to the desk. turn on the desk lamp.. Your previous actions: lookdown. rotateleft. moveahead. moveahead. rotateright. moveahead. moveahead. moveahead. moveahead. moveahead. moveahead. moveahead. moveahead. pickupobject. rotateright. rotateright. moveahead. moveahead. moveahead. rotateleft. moveahead. moveahead. moveahead. moveahead. What is you next step?<|endoftext|>',\n",
       "  '<|endoftext|>You see: <|image|>. Task: look at an alarm clock by the light of a lamp. walk straight ahead to the dresser. pick up the alarm clock on the dresser. turn right and walk past the couch to the desk. turn on the desk lamp.. Your previous actions: lookdown. rotateleft. moveahead. moveahead. rotateright. moveahead. moveahead. moveahead. moveahead. moveahead. moveahead. moveahead. moveahead. pickupobject. rotateright. rotateright. moveahead. moveahead. moveahead. rotateleft. moveahead. moveahead. moveahead. moveahead. moveahead. What is you next step?<|endoftext|>',\n",
       "  '<|endoftext|>You see: <|image|>. Task: look at an alarm clock by the light of a lamp. walk straight ahead to the dresser. pick up the alarm clock on the dresser. turn right and walk past the couch to the desk. turn on the desk lamp.. Your previous actions: lookdown. rotateleft. moveahead. moveahead. rotateright. moveahead. moveahead. moveahead. moveahead. moveahead. moveahead. moveahead. moveahead. pickupobject. rotateright. rotateright. moveahead. moveahead. moveahead. rotateleft. moveahead. moveahead. moveahead. moveahead. moveahead. moveahead. What is you next step?<|endoftext|>',\n",
       "  '<|endoftext|>You see: <|image|>. Task: look at an alarm clock by the light of a lamp. walk straight ahead to the dresser. pick up the alarm clock on the dresser. turn right and walk past the couch to the desk. turn on the desk lamp.. Your previous actions: lookdown. rotateleft. moveahead. moveahead. rotateright. moveahead. moveahead. moveahead. moveahead. moveahead. moveahead. moveahead. moveahead. pickupobject. rotateright. rotateright. moveahead. moveahead. moveahead. rotateleft. moveahead. moveahead. moveahead. moveahead. moveahead. moveahead. moveahead. What is you next step?<|endoftext|>',\n",
       "  '<|endoftext|>You see: <|image|>. Task: look at an alarm clock by the light of a lamp. walk straight ahead to the dresser. pick up the alarm clock on the dresser. turn right and walk past the couch to the desk. turn on the desk lamp.. Your previous actions: lookdown. rotateleft. moveahead. moveahead. rotateright. moveahead. moveahead. moveahead. moveahead. moveahead. moveahead. moveahead. moveahead. pickupobject. rotateright. rotateright. moveahead. moveahead. moveahead. rotateleft. moveahead. moveahead. moveahead. moveahead. moveahead. moveahead. moveahead. moveahead. What is you next step?<|endoftext|>',\n",
       "  '<|endoftext|>You see: <|image|>. Task: look at an alarm clock by the light of a lamp. walk straight ahead to the dresser. pick up the alarm clock on the dresser. turn right and walk past the couch to the desk. turn on the desk lamp.. Your previous actions: lookdown. rotateleft. moveahead. moveahead. rotateright. moveahead. moveahead. moveahead. moveahead. moveahead. moveahead. moveahead. moveahead. pickupobject. rotateright. rotateright. moveahead. moveahead. moveahead. rotateleft. moveahead. moveahead. moveahead. moveahead. moveahead. moveahead. moveahead. moveahead. moveahead. What is you next step?<|endoftext|>',\n",
       "  '<|endoftext|>You see: <|image|>. Task: look at an alarm clock by the light of a lamp. walk straight ahead to the dresser. pick up the alarm clock on the dresser. turn right and walk past the couch to the desk. turn on the desk lamp.. Your previous actions: lookdown. rotateleft. moveahead. moveahead. rotateright. moveahead. moveahead. moveahead. moveahead. moveahead. moveahead. moveahead. moveahead. pickupobject. rotateright. rotateright. moveahead. moveahead. moveahead. rotateleft. moveahead. moveahead. moveahead. moveahead. moveahead. moveahead. moveahead. moveahead. moveahead. moveahead. What is you next step?<|endoftext|>',\n",
       "  '<|endoftext|>You see: <|image|>. Task: look at an alarm clock by the light of a lamp. walk straight ahead to the dresser. pick up the alarm clock on the dresser. turn right and walk past the couch to the desk. turn on the desk lamp.. Your previous actions: lookdown. rotateleft. moveahead. moveahead. rotateright. moveahead. moveahead. moveahead. moveahead. moveahead. moveahead. moveahead. moveahead. pickupobject. rotateright. rotateright. moveahead. moveahead. moveahead. rotateleft. moveahead. moveahead. moveahead. moveahead. moveahead. moveahead. moveahead. moveahead. moveahead. moveahead. moveahead. What is you next step?<|endoftext|>',\n",
       "  '<|endoftext|>You see: <|image|>. Task: look at an alarm clock by the light of a lamp. walk straight ahead to the dresser. pick up the alarm clock on the dresser. turn right and walk past the couch to the desk. turn on the desk lamp.. Your previous actions: lookdown. rotateleft. moveahead. moveahead. rotateright. moveahead. moveahead. moveahead. moveahead. moveahead. moveahead. moveahead. moveahead. pickupobject. rotateright. rotateright. moveahead. moveahead. moveahead. rotateleft. moveahead. moveahead. moveahead. moveahead. moveahead. moveahead. moveahead. moveahead. moveahead. moveahead. moveahead. moveahead. What is you next step?<|endoftext|>',\n",
       "  '<|endoftext|>You see: <|image|>. Task: look at an alarm clock by the light of a lamp. walk straight ahead to the dresser. pick up the alarm clock on the dresser. turn right and walk past the couch to the desk. turn on the desk lamp.. Your previous actions: lookdown. rotateleft. moveahead. moveahead. rotateright. moveahead. moveahead. moveahead. moveahead. moveahead. moveahead. moveahead. moveahead. pickupobject. rotateright. rotateright. moveahead. moveahead. moveahead. rotateleft. moveahead. moveahead. moveahead. moveahead. moveahead. moveahead. moveahead. moveahead. moveahead. moveahead. moveahead. moveahead. rotateleft. What is you next step?<|endoftext|>',\n",
       "  '<|endoftext|>You see: <|image|>. Task: look at an alarm clock by the light of a lamp. walk straight ahead to the dresser. pick up the alarm clock on the dresser. turn right and walk past the couch to the desk. turn on the desk lamp.. Your previous actions: lookdown. rotateleft. moveahead. moveahead. rotateright. moveahead. moveahead. moveahead. moveahead. moveahead. moveahead. moveahead. moveahead. pickupobject. rotateright. rotateright. moveahead. moveahead. moveahead. rotateleft. moveahead. moveahead. moveahead. moveahead. moveahead. moveahead. moveahead. moveahead. moveahead. moveahead. moveahead. moveahead. rotateleft. moveahead. What is you next step?<|endoftext|>',\n",
       "  '<|endoftext|>You see: <|image|>. Task: look at an alarm clock by the light of a lamp. walk straight ahead to the dresser. pick up the alarm clock on the dresser. turn right and walk past the couch to the desk. turn on the desk lamp.. Your previous actions: lookdown. rotateleft. moveahead. moveahead. rotateright. moveahead. moveahead. moveahead. moveahead. moveahead. moveahead. moveahead. moveahead. pickupobject. rotateright. rotateright. moveahead. moveahead. moveahead. rotateleft. moveahead. moveahead. moveahead. moveahead. moveahead. moveahead. moveahead. moveahead. moveahead. moveahead. moveahead. moveahead. rotateleft. moveahead. moveahead. What is you next step?<|endoftext|>',\n",
       "  '<|endoftext|>You see: <|image|>. Task: look at an alarm clock by the light of a lamp. walk straight ahead to the dresser. pick up the alarm clock on the dresser. turn right and walk past the couch to the desk. turn on the desk lamp.. Your previous actions: lookdown. rotateleft. moveahead. moveahead. rotateright. moveahead. moveahead. moveahead. moveahead. moveahead. moveahead. moveahead. moveahead. pickupobject. rotateright. rotateright. moveahead. moveahead. moveahead. rotateleft. moveahead. moveahead. moveahead. moveahead. moveahead. moveahead. moveahead. moveahead. moveahead. moveahead. moveahead. moveahead. rotateleft. moveahead. moveahead. moveahead. What is you next step?<|endoftext|>',\n",
       "  '<|endoftext|>You see: <|image|>. Task: look at an alarm clock by the light of a lamp. walk straight ahead to the dresser. pick up the alarm clock on the dresser. turn right and walk past the couch to the desk. turn on the desk lamp.. Your previous actions: lookdown. rotateleft. moveahead. moveahead. rotateright. moveahead. moveahead. moveahead. moveahead. moveahead. moveahead. moveahead. moveahead. pickupobject. rotateright. rotateright. moveahead. moveahead. moveahead. rotateleft. moveahead. moveahead. moveahead. moveahead. moveahead. moveahead. moveahead. moveahead. moveahead. moveahead. moveahead. moveahead. rotateleft. moveahead. moveahead. moveahead. moveahead. What is you next step?<|endoftext|>',\n",
       "  '<|endoftext|>You see: <|image|>. Task: look at an alarm clock by the light of a lamp. walk straight ahead to the dresser. pick up the alarm clock on the dresser. turn right and walk past the couch to the desk. turn on the desk lamp.. Your previous actions: lookdown. rotateleft. moveahead. moveahead. rotateright. moveahead. moveahead. moveahead. moveahead. moveahead. moveahead. moveahead. moveahead. pickupobject. rotateright. rotateright. moveahead. moveahead. moveahead. rotateleft. moveahead. moveahead. moveahead. moveahead. moveahead. moveahead. moveahead. moveahead. moveahead. moveahead. moveahead. moveahead. rotateleft. moveahead. moveahead. moveahead. moveahead. rotateright. What is you next step?<|endoftext|>',\n",
       "  '<|endoftext|>You see: <|image|>. Task: look at an alarm clock by the light of a lamp. walk straight ahead to the dresser. pick up the alarm clock on the dresser. turn right and walk past the couch to the desk. turn on the desk lamp.. Your previous actions: lookdown. rotateleft. moveahead. moveahead. rotateright. moveahead. moveahead. moveahead. moveahead. moveahead. moveahead. moveahead. moveahead. pickupobject. rotateright. rotateright. moveahead. moveahead. moveahead. rotateleft. moveahead. moveahead. moveahead. moveahead. moveahead. moveahead. moveahead. moveahead. moveahead. moveahead. moveahead. moveahead. rotateleft. moveahead. moveahead. moveahead. moveahead. rotateright. moveahead. What is you next step?<|endoftext|>',\n",
       "  '<|endoftext|>You see: <|image|>. Task: look at an alarm clock by the light of a lamp. walk straight ahead to the dresser. pick up the alarm clock on the dresser. turn right and walk past the couch to the desk. turn on the desk lamp.. Your previous actions: lookdown. rotateleft. moveahead. moveahead. rotateright. moveahead. moveahead. moveahead. moveahead. moveahead. moveahead. moveahead. moveahead. pickupobject. rotateright. rotateright. moveahead. moveahead. moveahead. rotateleft. moveahead. moveahead. moveahead. moveahead. moveahead. moveahead. moveahead. moveahead. moveahead. moveahead. moveahead. moveahead. rotateleft. moveahead. moveahead. moveahead. moveahead. rotateright. moveahead. moveahead. What is you next step?<|endoftext|>',\n",
       "  '<|endoftext|>You see: <|image|>. Task: look at an alarm clock by the light of a lamp. walk straight ahead to the dresser. pick up the alarm clock on the dresser. turn right and walk past the couch to the desk. turn on the desk lamp.. Your previous actions: lookdown. rotateleft. moveahead. moveahead. rotateright. moveahead. moveahead. moveahead. moveahead. moveahead. moveahead. moveahead. moveahead. pickupobject. rotateright. rotateright. moveahead. moveahead. moveahead. rotateleft. moveahead. moveahead. moveahead. moveahead. moveahead. moveahead. moveahead. moveahead. moveahead. moveahead. moveahead. moveahead. rotateleft. moveahead. moveahead. moveahead. moveahead. rotateright. moveahead. moveahead. moveahead. What is you next step?<|endoftext|>',\n",
       "  '<|endoftext|>You see: <|image|>. Task: look at an alarm clock by the light of a lamp. walk straight ahead to the dresser. pick up the alarm clock on the dresser. turn right and walk past the couch to the desk. turn on the desk lamp.. Your previous actions: lookdown. rotateleft. moveahead. moveahead. rotateright. moveahead. moveahead. moveahead. moveahead. moveahead. moveahead. moveahead. moveahead. pickupobject. rotateright. rotateright. moveahead. moveahead. moveahead. rotateleft. moveahead. moveahead. moveahead. moveahead. moveahead. moveahead. moveahead. moveahead. moveahead. moveahead. moveahead. moveahead. rotateleft. moveahead. moveahead. moveahead. moveahead. rotateright. moveahead. moveahead. moveahead. lookup. What is you next step?<|endoftext|>'],\n",
       " 'images_features': tensor([[[[1.3795e+00, 1.1599e+00, 2.0494e+00,  ..., 4.9587e-01,\n",
       "            0.0000e+00, 0.0000e+00],\n",
       "           [2.3477e+00, 1.7304e+00, 3.0630e+00,  ..., 2.0482e+00,\n",
       "            1.1807e+00, 1.2713e-01],\n",
       "           [1.1581e+00, 2.3459e-01, 1.3942e+00,  ..., 2.4894e+00,\n",
       "            2.5468e+00, 1.1932e+00],\n",
       "           ...,\n",
       "           [1.4528e+00, 1.2519e+00, 1.0747e+00,  ..., 2.0880e+00,\n",
       "            3.7872e+00, 1.6007e+00],\n",
       "           [1.1447e+00, 1.4958e+00, 2.2061e+00,  ..., 2.5049e+00,\n",
       "            3.3534e+00, 1.1758e+00],\n",
       "           [8.5824e-01, 8.1783e-01, 1.4219e+00,  ..., 1.3510e+00,\n",
       "            1.4064e+00, 7.5531e-01]],\n",
       " \n",
       "          [[4.0714e-01, 1.8194e+00, 0.0000e+00,  ..., 0.0000e+00,\n",
       "            0.0000e+00, 0.0000e+00],\n",
       "           [0.0000e+00, 0.0000e+00, 0.0000e+00,  ..., 0.0000e+00,\n",
       "            0.0000e+00, 0.0000e+00],\n",
       "           [0.0000e+00, 0.0000e+00, 0.0000e+00,  ..., 0.0000e+00,\n",
       "            0.0000e+00, 0.0000e+00],\n",
       "           ...,\n",
       "           [3.6184e-01, 4.4402e-01, 6.2918e-01,  ..., 0.0000e+00,\n",
       "            0.0000e+00, 0.0000e+00],\n",
       "           [0.0000e+00, 0.0000e+00, 9.2463e-01,  ..., 1.1217e+00,\n",
       "            0.0000e+00, 0.0000e+00],\n",
       "           [0.0000e+00, 0.0000e+00, 6.7021e-01,  ..., 3.0664e-01,\n",
       "            0.0000e+00, 0.0000e+00]],\n",
       " \n",
       "          [[1.5690e-01, 0.0000e+00, 3.0025e-01,  ..., 0.0000e+00,\n",
       "            0.0000e+00, 0.0000e+00],\n",
       "           [3.1448e-01, 0.0000e+00, 0.0000e+00,  ..., 0.0000e+00,\n",
       "            4.0172e-01, 4.5003e-01],\n",
       "           [1.1887e+00, 1.4627e+00, 2.7483e+00,  ..., 8.8885e-01,\n",
       "            1.9625e+00, 2.6349e+00],\n",
       "           ...,\n",
       "           [7.9728e-01, 8.2948e-01, 6.3577e-01,  ..., 0.0000e+00,\n",
       "            9.3799e-01, 2.0757e+00],\n",
       "           [0.0000e+00, 0.0000e+00, 0.0000e+00,  ..., 0.0000e+00,\n",
       "            0.0000e+00, 0.0000e+00],\n",
       "           [0.0000e+00, 0.0000e+00, 0.0000e+00,  ..., 0.0000e+00,\n",
       "            0.0000e+00, 0.0000e+00]],\n",
       " \n",
       "          ...,\n",
       " \n",
       "          [[0.0000e+00, 3.1370e-01, 5.8986e-01,  ..., 0.0000e+00,\n",
       "            1.2543e-02, 0.0000e+00],\n",
       "           [0.0000e+00, 0.0000e+00, 0.0000e+00,  ..., 0.0000e+00,\n",
       "            0.0000e+00, 1.8182e-01],\n",
       "           [0.0000e+00, 0.0000e+00, 0.0000e+00,  ..., 9.1642e-01,\n",
       "            5.0934e-01, 2.1414e-01],\n",
       "           ...,\n",
       "           [0.0000e+00, 8.5162e-01, 7.9974e-01,  ..., 1.9863e+00,\n",
       "            2.1507e+00, 6.6288e-01],\n",
       "           [8.7158e-02, 8.5028e-01, 1.0606e+00,  ..., 8.2747e-01,\n",
       "            1.7013e+00, 9.8784e-01],\n",
       "           [0.0000e+00, 0.0000e+00, 0.0000e+00,  ..., 0.0000e+00,\n",
       "            1.4347e-01, 7.2434e-01]],\n",
       " \n",
       "          [[0.0000e+00, 0.0000e+00, 8.4157e-01,  ..., 7.5484e-01,\n",
       "            7.7375e-01, 3.1729e-01],\n",
       "           [3.2964e-01, 7.5848e-01, 1.5410e+00,  ..., 2.9487e-01,\n",
       "            6.0194e-01, 3.5510e-01],\n",
       "           [0.0000e+00, 4.8623e-01, 4.9952e-01,  ..., 0.0000e+00,\n",
       "            0.0000e+00, 0.0000e+00],\n",
       "           ...,\n",
       "           [0.0000e+00, 0.0000e+00, 9.4560e-02,  ..., 1.3144e+00,\n",
       "            2.7513e-01, 0.0000e+00],\n",
       "           [0.0000e+00, 0.0000e+00, 1.6497e-01,  ..., 1.3779e+00,\n",
       "            0.0000e+00, 0.0000e+00],\n",
       "           [0.0000e+00, 3.9576e-02, 4.6770e-01,  ..., 7.2141e-01,\n",
       "            0.0000e+00, 0.0000e+00]],\n",
       " \n",
       "          [[0.0000e+00, 0.0000e+00, 4.8895e-01,  ..., 1.5044e+00,\n",
       "            4.2915e-01, 1.6706e-01],\n",
       "           [1.6917e-01, 7.2151e-01, 1.2270e+00,  ..., 1.7336e+00,\n",
       "            1.2923e+00, 7.8977e-01],\n",
       "           [1.6519e-01, 1.1547e+00, 7.2040e-01,  ..., 9.6582e-01,\n",
       "            1.6732e+00, 1.1462e+00],\n",
       "           ...,\n",
       "           [0.0000e+00, 0.0000e+00, 0.0000e+00,  ..., 2.3683e-01,\n",
       "            9.4314e-01, 2.8762e-01],\n",
       "           [2.6971e-01, 0.0000e+00, 0.0000e+00,  ..., 7.5041e-01,\n",
       "            1.2948e+00, 5.0964e-01],\n",
       "           [5.2661e-01, 5.2677e-01, 0.0000e+00,  ..., 9.6831e-01,\n",
       "            8.1632e-01, 1.5284e-01]]],\n",
       " \n",
       " \n",
       "         [[[0.0000e+00, 0.0000e+00, 1.0325e+00,  ..., 0.0000e+00,\n",
       "            2.2635e-01, 2.8827e-01],\n",
       "           [1.9544e+00, 2.0186e+00, 2.5447e+00,  ..., 1.5245e-01,\n",
       "            1.0458e+00, 9.9887e-01],\n",
       "           [1.0724e+00, 1.4075e+00, 1.6606e+00,  ..., 1.6209e+00,\n",
       "            3.0701e+00, 1.2747e+00],\n",
       "           ...,\n",
       "           [9.3351e-01, 1.3297e+00, 2.4820e+00,  ..., 2.5062e+00,\n",
       "            1.8979e+00, 4.8461e-01],\n",
       "           [7.4767e-01, 9.7872e-01, 2.2846e+00,  ..., 1.9671e+00,\n",
       "            7.2605e-01, 0.0000e+00],\n",
       "           [5.7668e-01, 7.8363e-01, 2.0250e+00,  ..., 2.7563e+00,\n",
       "            1.3708e+00, 0.0000e+00]],\n",
       " \n",
       "          [[0.0000e+00, 0.0000e+00, 0.0000e+00,  ..., 0.0000e+00,\n",
       "            0.0000e+00, 0.0000e+00],\n",
       "           [0.0000e+00, 0.0000e+00, 0.0000e+00,  ..., 0.0000e+00,\n",
       "            0.0000e+00, 0.0000e+00],\n",
       "           [0.0000e+00, 1.0999e-01, 1.6128e-01,  ..., 0.0000e+00,\n",
       "            0.0000e+00, 0.0000e+00],\n",
       "           ...,\n",
       "           [0.0000e+00, 0.0000e+00, 0.0000e+00,  ..., 6.8521e-01,\n",
       "            6.9456e-01, 0.0000e+00],\n",
       "           [0.0000e+00, 0.0000e+00, 5.0584e-01,  ..., 1.9958e+00,\n",
       "            1.7013e+00, 1.1589e-01],\n",
       "           [0.0000e+00, 0.0000e+00, 0.0000e+00,  ..., 8.1978e-01,\n",
       "            2.4640e-01, 0.0000e+00]],\n",
       " \n",
       "          [[1.5650e+00, 1.7208e+00, 2.7384e+00,  ..., 2.1567e+00,\n",
       "            1.5941e+00, 1.3638e+00],\n",
       "           [1.0479e+00, 1.5187e+00, 2.5944e+00,  ..., 7.7509e-01,\n",
       "            7.6615e-01, 1.8815e+00],\n",
       "           [5.7115e-01, 6.7028e-01, 6.7349e-01,  ..., 2.3309e-04,\n",
       "            4.2023e-02, 7.6327e-01],\n",
       "           ...,\n",
       "           [0.0000e+00, 2.0552e-01, 1.0678e-01,  ..., 0.0000e+00,\n",
       "            0.0000e+00, 0.0000e+00],\n",
       "           [0.0000e+00, 0.0000e+00, 0.0000e+00,  ..., 0.0000e+00,\n",
       "            0.0000e+00, 0.0000e+00],\n",
       "           [0.0000e+00, 0.0000e+00, 0.0000e+00,  ..., 0.0000e+00,\n",
       "            0.0000e+00, 0.0000e+00]],\n",
       " \n",
       "          ...,\n",
       " \n",
       "          [[0.0000e+00, 0.0000e+00, 0.0000e+00,  ..., 0.0000e+00,\n",
       "            0.0000e+00, 0.0000e+00],\n",
       "           [0.0000e+00, 0.0000e+00, 0.0000e+00,  ..., 0.0000e+00,\n",
       "            0.0000e+00, 0.0000e+00],\n",
       "           [0.0000e+00, 0.0000e+00, 0.0000e+00,  ..., 4.7694e-01,\n",
       "            4.3564e-01, 0.0000e+00],\n",
       "           ...,\n",
       "           [7.0174e-01, 9.2876e-01, 1.4609e+00,  ..., 3.1160e-01,\n",
       "            1.3986e-01, 0.0000e+00],\n",
       "           [0.0000e+00, 0.0000e+00, 0.0000e+00,  ..., 0.0000e+00,\n",
       "            5.6698e-01, 1.7459e+00],\n",
       "           [0.0000e+00, 0.0000e+00, 0.0000e+00,  ..., 0.0000e+00,\n",
       "            3.5393e-01, 1.3917e+00]],\n",
       " \n",
       "          [[8.1212e-01, 1.4968e+00, 1.2443e+00,  ..., 0.0000e+00,\n",
       "            0.0000e+00, 0.0000e+00],\n",
       "           [8.7380e-01, 1.2464e+00, 6.1086e-01,  ..., 0.0000e+00,\n",
       "            0.0000e+00, 0.0000e+00],\n",
       "           [7.8199e-01, 1.1826e+00, 1.2490e+00,  ..., 7.3514e-01,\n",
       "            0.0000e+00, 0.0000e+00],\n",
       "           ...,\n",
       "           [0.0000e+00, 0.0000e+00, 9.8571e-01,  ..., 1.3518e+00,\n",
       "            0.0000e+00, 0.0000e+00],\n",
       "           [0.0000e+00, 0.0000e+00, 2.3518e-01,  ..., 3.2811e-01,\n",
       "            0.0000e+00, 0.0000e+00],\n",
       "           [0.0000e+00, 0.0000e+00, 3.5108e-01,  ..., 0.0000e+00,\n",
       "            0.0000e+00, 0.0000e+00]],\n",
       " \n",
       "          [[0.0000e+00, 0.0000e+00, 0.0000e+00,  ..., 0.0000e+00,\n",
       "            0.0000e+00, 0.0000e+00],\n",
       "           [0.0000e+00, 0.0000e+00, 0.0000e+00,  ..., 0.0000e+00,\n",
       "            0.0000e+00, 0.0000e+00],\n",
       "           [0.0000e+00, 0.0000e+00, 0.0000e+00,  ..., 0.0000e+00,\n",
       "            0.0000e+00, 0.0000e+00],\n",
       "           ...,\n",
       "           [0.0000e+00, 0.0000e+00, 0.0000e+00,  ..., 3.5217e-01,\n",
       "            4.0471e-01, 0.0000e+00],\n",
       "           [0.0000e+00, 0.0000e+00, 8.1145e-02,  ..., 4.0291e-01,\n",
       "            2.6147e-01, 1.4899e-01],\n",
       "           [5.1331e-02, 1.4451e-01, 3.1392e-01,  ..., 9.6528e-01,\n",
       "            2.2417e-01, 9.4838e-02]]],\n",
       " \n",
       " \n",
       "         [[[0.0000e+00, 0.0000e+00, 0.0000e+00,  ..., 2.0645e+00,\n",
       "            1.0897e+00, 3.3105e-01],\n",
       "           [0.0000e+00, 0.0000e+00, 0.0000e+00,  ..., 1.7900e+00,\n",
       "            1.3309e+00, 5.0028e-01],\n",
       "           [5.2653e-02, 0.0000e+00, 0.0000e+00,  ..., 0.0000e+00,\n",
       "            0.0000e+00, 0.0000e+00],\n",
       "           ...,\n",
       "           [2.6765e+00, 3.2976e+00, 1.2687e+00,  ..., 0.0000e+00,\n",
       "            0.0000e+00, 0.0000e+00],\n",
       "           [3.0511e+00, 3.6684e+00, 1.8168e+00,  ..., 0.0000e+00,\n",
       "            1.0311e+00, 9.6687e-01],\n",
       "           [3.1228e+00, 3.5423e+00, 2.0032e+00,  ..., 0.0000e+00,\n",
       "            1.0350e+00, 8.6140e-01]],\n",
       " \n",
       "          [[0.0000e+00, 0.0000e+00, 0.0000e+00,  ..., 0.0000e+00,\n",
       "            1.5975e-01, 1.7024e-01],\n",
       "           [0.0000e+00, 0.0000e+00, 2.3262e-01,  ..., 7.7267e-01,\n",
       "            1.1711e+00, 9.8669e-01],\n",
       "           [0.0000e+00, 0.0000e+00, 9.9270e-01,  ..., 9.4119e-01,\n",
       "            5.5021e-01, 4.3432e-01],\n",
       "           ...,\n",
       "           [0.0000e+00, 0.0000e+00, 1.8052e-02,  ..., 3.0186e-01,\n",
       "            2.7239e-01, 3.0727e-01],\n",
       "           [0.0000e+00, 0.0000e+00, 0.0000e+00,  ..., 0.0000e+00,\n",
       "            4.2188e-02, 1.3550e-01],\n",
       "           [0.0000e+00, 0.0000e+00, 0.0000e+00,  ..., 0.0000e+00,\n",
       "            0.0000e+00, 0.0000e+00]],\n",
       " \n",
       "          [[0.0000e+00, 0.0000e+00, 0.0000e+00,  ..., 2.5564e-02,\n",
       "            0.0000e+00, 0.0000e+00],\n",
       "           [0.0000e+00, 0.0000e+00, 3.3997e-01,  ..., 1.1257e-01,\n",
       "            0.0000e+00, 0.0000e+00],\n",
       "           [0.0000e+00, 0.0000e+00, 0.0000e+00,  ..., 0.0000e+00,\n",
       "            2.4701e-01, 1.5861e-02],\n",
       "           ...,\n",
       "           [3.3829e-01, 0.0000e+00, 0.0000e+00,  ..., 0.0000e+00,\n",
       "            0.0000e+00, 0.0000e+00],\n",
       "           [3.7868e-01, 0.0000e+00, 0.0000e+00,  ..., 0.0000e+00,\n",
       "            0.0000e+00, 0.0000e+00],\n",
       "           [8.0778e-01, 3.4673e-01, 3.5642e-01,  ..., 0.0000e+00,\n",
       "            0.0000e+00, 0.0000e+00]],\n",
       " \n",
       "          ...,\n",
       " \n",
       "          [[0.0000e+00, 0.0000e+00, 0.0000e+00,  ..., 0.0000e+00,\n",
       "            0.0000e+00, 0.0000e+00],\n",
       "           [0.0000e+00, 0.0000e+00, 0.0000e+00,  ..., 0.0000e+00,\n",
       "            0.0000e+00, 0.0000e+00],\n",
       "           [0.0000e+00, 0.0000e+00, 0.0000e+00,  ..., 0.0000e+00,\n",
       "            0.0000e+00, 0.0000e+00],\n",
       "           ...,\n",
       "           [4.8331e-01, 0.0000e+00, 0.0000e+00,  ..., 0.0000e+00,\n",
       "            0.0000e+00, 0.0000e+00],\n",
       "           [0.0000e+00, 0.0000e+00, 0.0000e+00,  ..., 0.0000e+00,\n",
       "            0.0000e+00, 0.0000e+00],\n",
       "           [0.0000e+00, 0.0000e+00, 0.0000e+00,  ..., 0.0000e+00,\n",
       "            0.0000e+00, 0.0000e+00]],\n",
       " \n",
       "          [[0.0000e+00, 0.0000e+00, 0.0000e+00,  ..., 0.0000e+00,\n",
       "            0.0000e+00, 0.0000e+00],\n",
       "           [0.0000e+00, 0.0000e+00, 0.0000e+00,  ..., 5.8142e-01,\n",
       "            0.0000e+00, 0.0000e+00],\n",
       "           [2.8805e-04, 3.6593e-01, 1.1643e+00,  ..., 1.6214e+00,\n",
       "            0.0000e+00, 0.0000e+00],\n",
       "           ...,\n",
       "           [0.0000e+00, 0.0000e+00, 1.3967e+00,  ..., 2.5653e+00,\n",
       "            1.9575e+00, 3.7642e-01],\n",
       "           [0.0000e+00, 0.0000e+00, 0.0000e+00,  ..., 5.2299e-01,\n",
       "            3.7146e-01, 0.0000e+00],\n",
       "           [0.0000e+00, 0.0000e+00, 0.0000e+00,  ..., 0.0000e+00,\n",
       "            0.0000e+00, 0.0000e+00]],\n",
       " \n",
       "          [[0.0000e+00, 0.0000e+00, 0.0000e+00,  ..., 9.4931e-01,\n",
       "            3.7144e+00, 3.5667e+00],\n",
       "           [0.0000e+00, 0.0000e+00, 0.0000e+00,  ..., 6.1915e-01,\n",
       "            4.4784e+00, 4.2817e+00],\n",
       "           [3.5779e-01, 4.1425e-01, 3.2545e-01,  ..., 1.6869e+00,\n",
       "            5.1154e+00, 4.6069e+00],\n",
       "           ...,\n",
       "           [0.0000e+00, 0.0000e+00, 6.5246e-01,  ..., 1.2618e+00,\n",
       "            2.3322e+00, 1.3867e+00],\n",
       "           [0.0000e+00, 2.7299e-01, 1.1906e+00,  ..., 4.1026e-01,\n",
       "            1.2404e+00, 6.0548e-01],\n",
       "           [0.0000e+00, 0.0000e+00, 0.0000e+00,  ..., 0.0000e+00,\n",
       "            0.0000e+00, 0.0000e+00]]],\n",
       " \n",
       " \n",
       "         ...,\n",
       " \n",
       " \n",
       "         [[[4.2725e-01, 0.0000e+00, 0.0000e+00,  ..., 0.0000e+00,\n",
       "            6.5589e-01, 1.1290e+00],\n",
       "           [5.7699e-01, 0.0000e+00, 0.0000e+00,  ..., 2.5322e-01,\n",
       "            1.9740e+00, 2.6631e+00],\n",
       "           [3.7394e-01, 0.0000e+00, 0.0000e+00,  ..., 0.0000e+00,\n",
       "            1.0113e+00, 1.0232e+00],\n",
       "           ...,\n",
       "           [7.0524e-02, 7.3809e-02, 7.9346e-01,  ..., 0.0000e+00,\n",
       "            0.0000e+00, 0.0000e+00],\n",
       "           [8.7836e-01, 2.3859e+00, 3.2110e+00,  ..., 7.5042e-01,\n",
       "            0.0000e+00, 0.0000e+00],\n",
       "           [9.8928e-01, 1.8254e+00, 1.5388e+00,  ..., 0.0000e+00,\n",
       "            0.0000e+00, 0.0000e+00]],\n",
       " \n",
       "          [[0.0000e+00, 0.0000e+00, 0.0000e+00,  ..., 0.0000e+00,\n",
       "            0.0000e+00, 0.0000e+00],\n",
       "           [0.0000e+00, 0.0000e+00, 0.0000e+00,  ..., 0.0000e+00,\n",
       "            0.0000e+00, 0.0000e+00],\n",
       "           [0.0000e+00, 0.0000e+00, 0.0000e+00,  ..., 0.0000e+00,\n",
       "            0.0000e+00, 0.0000e+00],\n",
       "           ...,\n",
       "           [0.0000e+00, 4.6658e-01, 1.2999e+00,  ..., 2.6920e+00,\n",
       "            3.5039e+00, 2.3790e+00],\n",
       "           [1.1485e+00, 2.1577e+00, 3.0828e+00,  ..., 4.3770e+00,\n",
       "            4.4233e+00, 2.3415e+00],\n",
       "           [2.8472e-01, 8.7130e-01, 1.6992e+00,  ..., 2.5609e+00,\n",
       "            1.7442e+00, 3.8079e-01]],\n",
       " \n",
       "          [[0.0000e+00, 9.4732e-01, 9.8041e-01,  ..., 5.3350e-01,\n",
       "            0.0000e+00, 9.9551e-02],\n",
       "           [0.0000e+00, 0.0000e+00, 0.0000e+00,  ..., 6.2161e-02,\n",
       "            0.0000e+00, 6.9811e-01],\n",
       "           [0.0000e+00, 0.0000e+00, 0.0000e+00,  ..., 1.4130e+00,\n",
       "            1.5506e+00, 1.6061e+00],\n",
       "           ...,\n",
       "           [1.4241e-01, 0.0000e+00, 3.5447e-01,  ..., 2.8251e+00,\n",
       "            1.8047e+00, 1.2115e+00],\n",
       "           [2.7137e-01, 1.8355e-01, 8.6979e-01,  ..., 2.4559e+00,\n",
       "            2.1691e+00, 1.3192e+00],\n",
       "           [5.8031e-01, 4.1282e-01, 3.0927e-01,  ..., 8.4750e-01,\n",
       "            5.0588e-01, 5.0658e-02]],\n",
       " \n",
       "          ...,\n",
       " \n",
       "          [[2.3619e-01, 5.9679e-01, 2.8112e-01,  ..., 0.0000e+00,\n",
       "            0.0000e+00, 0.0000e+00],\n",
       "           [0.0000e+00, 4.7403e-01, 2.7237e-01,  ..., 1.6449e-01,\n",
       "            1.2411e+00, 8.8439e-01],\n",
       "           [0.0000e+00, 0.0000e+00, 0.0000e+00,  ..., 0.0000e+00,\n",
       "            5.5264e-01, 2.3785e-01],\n",
       "           ...,\n",
       "           [0.0000e+00, 0.0000e+00, 0.0000e+00,  ..., 0.0000e+00,\n",
       "            0.0000e+00, 0.0000e+00],\n",
       "           [0.0000e+00, 0.0000e+00, 0.0000e+00,  ..., 0.0000e+00,\n",
       "            0.0000e+00, 0.0000e+00],\n",
       "           [0.0000e+00, 0.0000e+00, 0.0000e+00,  ..., 0.0000e+00,\n",
       "            0.0000e+00, 0.0000e+00]],\n",
       " \n",
       "          [[7.6675e-01, 1.9932e+00, 2.5617e+00,  ..., 5.7868e-01,\n",
       "            0.0000e+00, 0.0000e+00],\n",
       "           [1.0215e+00, 2.8133e+00, 3.2411e+00,  ..., 8.3520e-01,\n",
       "            0.0000e+00, 0.0000e+00],\n",
       "           [7.2804e-01, 2.5195e+00, 2.9121e+00,  ..., 0.0000e+00,\n",
       "            0.0000e+00, 0.0000e+00],\n",
       "           ...,\n",
       "           [2.7261e-01, 1.6832e+00, 2.8159e+00,  ..., 3.4863e+00,\n",
       "            3.1179e+00, 1.4004e+00],\n",
       "           [0.0000e+00, 1.1636e+00, 2.7949e+00,  ..., 3.8678e+00,\n",
       "            2.7212e+00, 6.5798e-01],\n",
       "           [2.1960e-01, 1.1528e+00, 2.1624e+00,  ..., 2.6150e+00,\n",
       "            1.7177e+00, 3.0726e-01]],\n",
       " \n",
       "          [[0.0000e+00, 0.0000e+00, 1.4602e-02,  ..., 0.0000e+00,\n",
       "            0.0000e+00, 0.0000e+00],\n",
       "           [0.0000e+00, 6.1971e-01, 0.0000e+00,  ..., 0.0000e+00,\n",
       "            0.0000e+00, 0.0000e+00],\n",
       "           [0.0000e+00, 0.0000e+00, 0.0000e+00,  ..., 0.0000e+00,\n",
       "            0.0000e+00, 0.0000e+00],\n",
       "           ...,\n",
       "           [4.2324e-01, 2.4361e+00, 3.8595e+00,  ..., 3.8425e+00,\n",
       "            1.8056e+00, 3.1016e-01],\n",
       "           [0.0000e+00, 5.1420e-01, 6.8385e-01,  ..., 9.3840e-01,\n",
       "            1.2069e+00, 1.2712e-01],\n",
       "           [0.0000e+00, 0.0000e+00, 0.0000e+00,  ..., 0.0000e+00,\n",
       "            2.0350e-01, 0.0000e+00]]],\n",
       " \n",
       " \n",
       "         [[[0.0000e+00, 0.0000e+00, 0.0000e+00,  ..., 9.4356e-01,\n",
       "            1.6924e+00, 1.3361e+00],\n",
       "           [8.1967e-01, 5.2597e-01, 1.0886e+00,  ..., 3.0331e+00,\n",
       "            3.9595e+00, 4.5323e+00],\n",
       "           [1.1749e-01, 0.0000e+00, 0.0000e+00,  ..., 2.6163e+00,\n",
       "            3.4548e+00, 3.2531e+00],\n",
       "           ...,\n",
       "           [0.0000e+00, 0.0000e+00, 0.0000e+00,  ..., 0.0000e+00,\n",
       "            0.0000e+00, 0.0000e+00],\n",
       "           [7.1175e-01, 2.4385e+00, 3.5710e+00,  ..., 9.2215e-01,\n",
       "            0.0000e+00, 1.6040e-01],\n",
       "           [9.0731e-01, 1.6142e+00, 1.3483e+00,  ..., 3.2500e-01,\n",
       "            2.0441e-01, 3.2068e-01]],\n",
       " \n",
       "          [[0.0000e+00, 0.0000e+00, 0.0000e+00,  ..., 0.0000e+00,\n",
       "            0.0000e+00, 4.7045e-01],\n",
       "           [0.0000e+00, 0.0000e+00, 0.0000e+00,  ..., 0.0000e+00,\n",
       "            0.0000e+00, 0.0000e+00],\n",
       "           [0.0000e+00, 0.0000e+00, 0.0000e+00,  ..., 0.0000e+00,\n",
       "            0.0000e+00, 7.7968e-01],\n",
       "           ...,\n",
       "           [1.3605e-01, 9.0688e-01, 1.4383e+00,  ..., 1.9357e+00,\n",
       "            3.0707e+00, 2.3371e+00],\n",
       "           [1.4206e+00, 2.5588e+00, 2.8531e+00,  ..., 3.0555e+00,\n",
       "            3.9421e+00, 2.0960e+00],\n",
       "           [5.1071e-01, 1.0467e+00, 1.5697e+00,  ..., 2.1206e+00,\n",
       "            2.1830e+00, 9.5397e-01]],\n",
       " \n",
       "          [[2.9175e-01, 8.0673e-01, 3.1418e+00,  ..., 1.0284e+00,\n",
       "            0.0000e+00, 0.0000e+00],\n",
       "           [2.1414e-01, 7.6787e-01, 1.8132e+00,  ..., 1.0449e+00,\n",
       "            0.0000e+00, 9.1338e-01],\n",
       "           [4.0282e-01, 1.5393e+00, 1.6643e+00,  ..., 1.4081e+00,\n",
       "            1.9888e+00, 1.8686e+00],\n",
       "           ...,\n",
       "           [5.5871e-01, 1.0314e+00, 1.8481e+00,  ..., 3.9719e+00,\n",
       "            3.0146e+00, 1.8785e+00],\n",
       "           [6.5702e-01, 1.1086e+00, 2.0168e+00,  ..., 3.8482e+00,\n",
       "            2.9657e+00, 1.6948e+00],\n",
       "           [9.9753e-01, 8.8422e-01, 9.9565e-01,  ..., 1.7107e+00,\n",
       "            1.1837e+00, 5.6391e-01]],\n",
       " \n",
       "          ...,\n",
       " \n",
       "          [[0.0000e+00, 0.0000e+00, 3.1473e-01,  ..., 1.4546e-01,\n",
       "            8.8992e-01, 7.9547e-01],\n",
       "           [3.7906e-01, 0.0000e+00, 1.1961e+00,  ..., 0.0000e+00,\n",
       "            0.0000e+00, 7.6757e-03],\n",
       "           [9.6994e-01, 8.1794e-01, 2.7131e+00,  ..., 1.5366e+00,\n",
       "            5.9774e-01, 2.5494e-01],\n",
       "           ...,\n",
       "           [2.4085e-02, 1.9272e-02, 0.0000e+00,  ..., 0.0000e+00,\n",
       "            0.0000e+00, 0.0000e+00],\n",
       "           [0.0000e+00, 0.0000e+00, 0.0000e+00,  ..., 0.0000e+00,\n",
       "            0.0000e+00, 0.0000e+00],\n",
       "           [0.0000e+00, 0.0000e+00, 0.0000e+00,  ..., 0.0000e+00,\n",
       "            0.0000e+00, 0.0000e+00]],\n",
       " \n",
       "          [[2.2798e+00, 3.5173e+00, 3.9364e+00,  ..., 1.2424e+00,\n",
       "            3.8933e-01, 5.6060e-01],\n",
       "           [2.6627e+00, 3.8616e+00, 4.2169e+00,  ..., 6.0488e-01,\n",
       "            0.0000e+00, 1.9545e-01],\n",
       "           [2.2485e+00, 4.0500e+00, 4.1865e+00,  ..., 5.4031e-01,\n",
       "            0.0000e+00, 0.0000e+00],\n",
       "           ...,\n",
       "           [3.9430e-01, 1.4540e+00, 2.2705e+00,  ..., 2.3547e+00,\n",
       "            1.6877e+00, 9.6256e-01],\n",
       "           [1.0875e-01, 1.6287e+00, 2.8276e+00,  ..., 2.6899e+00,\n",
       "            1.8031e+00, 6.5751e-01],\n",
       "           [4.2680e-01, 1.2367e+00, 2.2310e+00,  ..., 2.5941e+00,\n",
       "            2.0451e+00, 8.7770e-01]],\n",
       " \n",
       "          [[0.0000e+00, 0.0000e+00, 3.6045e-01,  ..., 0.0000e+00,\n",
       "            0.0000e+00, 0.0000e+00],\n",
       "           [0.0000e+00, 0.0000e+00, 0.0000e+00,  ..., 0.0000e+00,\n",
       "            0.0000e+00, 0.0000e+00],\n",
       "           [0.0000e+00, 0.0000e+00, 0.0000e+00,  ..., 0.0000e+00,\n",
       "            0.0000e+00, 0.0000e+00],\n",
       "           ...,\n",
       "           [5.0381e-01, 2.3537e+00, 3.1001e+00,  ..., 2.1752e+00,\n",
       "            1.2579e+00, 2.1031e-02],\n",
       "           [0.0000e+00, 6.8096e-01, 6.6544e-01,  ..., 3.5848e-01,\n",
       "            8.7826e-01, 7.3958e-02],\n",
       "           [0.0000e+00, 0.0000e+00, 0.0000e+00,  ..., 0.0000e+00,\n",
       "            5.8289e-01, 0.0000e+00]]],\n",
       " \n",
       " \n",
       "         [[[0.0000e+00, 0.0000e+00, 0.0000e+00,  ..., 0.0000e+00,\n",
       "            6.0279e-02, 0.0000e+00],\n",
       "           [0.0000e+00, 0.0000e+00, 0.0000e+00,  ..., 6.7844e-01,\n",
       "            1.2689e+00, 4.1063e-01],\n",
       "           [0.0000e+00, 5.0668e-01, 1.6466e+00,  ..., 2.5417e+00,\n",
       "            2.6054e+00, 1.2524e+00],\n",
       "           ...,\n",
       "           [0.0000e+00, 2.3954e-01, 9.5412e-01,  ..., 2.6461e-01,\n",
       "            7.6144e-01, 7.3760e-01],\n",
       "           [2.1400e-01, 1.3061e+00, 2.6673e+00,  ..., 1.0033e+00,\n",
       "            1.2152e+00, 1.4658e+00],\n",
       "           [1.0152e-01, 1.0538e+00, 1.3922e+00,  ..., 9.0518e-01,\n",
       "            1.2033e+00, 1.2475e+00]],\n",
       " \n",
       "          [[0.0000e+00, 0.0000e+00, 0.0000e+00,  ..., 0.0000e+00,\n",
       "            0.0000e+00, 0.0000e+00],\n",
       "           [0.0000e+00, 0.0000e+00, 0.0000e+00,  ..., 3.7992e-01,\n",
       "            0.0000e+00, 0.0000e+00],\n",
       "           [1.0226e+00, 1.4143e+00, 9.0861e-01,  ..., 1.0959e+00,\n",
       "            9.0596e-01, 5.9668e-01],\n",
       "           ...,\n",
       "           [6.5456e-01, 5.7759e-01, 4.1746e-01,  ..., 2.9784e+00,\n",
       "            3.0991e+00, 1.4716e+00],\n",
       "           [1.7598e+00, 3.3221e+00, 4.1103e+00,  ..., 5.3705e+00,\n",
       "            4.8458e+00, 2.3886e+00],\n",
       "           [3.9636e-01, 1.5472e+00, 2.2993e+00,  ..., 3.3430e+00,\n",
       "            3.3884e+00, 1.9712e+00]],\n",
       " \n",
       "          [[0.0000e+00, 0.0000e+00, 0.0000e+00,  ..., 0.0000e+00,\n",
       "            0.0000e+00, 0.0000e+00],\n",
       "           [6.3956e-01, 7.8662e-01, 4.6586e-01,  ..., 0.0000e+00,\n",
       "            1.7806e-01, 1.4102e-01],\n",
       "           [9.8753e-01, 1.5421e+00, 3.4469e+00,  ..., 1.0187e+00,\n",
       "            0.0000e+00, 0.0000e+00],\n",
       "           ...,\n",
       "           [1.6474e+00, 2.9855e+00, 4.6896e+00,  ..., 5.2290e+00,\n",
       "            3.6598e+00, 2.0193e+00],\n",
       "           [1.1373e+00, 2.3759e+00, 3.5188e+00,  ..., 4.1203e+00,\n",
       "            3.9800e+00, 2.5912e+00],\n",
       "           [6.4164e-01, 9.6845e-01, 8.5978e-01,  ..., 1.2323e+00,\n",
       "            1.1942e+00, 6.8503e-01]],\n",
       " \n",
       "          ...,\n",
       " \n",
       "          [[2.1281e-01, 8.8028e-01, 9.0117e-01,  ..., 1.1658e-01,\n",
       "            3.9411e-01, 2.4936e-01],\n",
       "           [0.0000e+00, 6.9109e-01, 1.1804e+00,  ..., 0.0000e+00,\n",
       "            3.5534e-01, 5.3131e-01],\n",
       "           [6.5768e-01, 1.2224e+00, 1.3166e+00,  ..., 4.7623e-01,\n",
       "            8.7549e-01, 5.5778e-01],\n",
       "           ...,\n",
       "           [1.2324e-01, 0.0000e+00, 0.0000e+00,  ..., 0.0000e+00,\n",
       "            0.0000e+00, 9.7341e-02],\n",
       "           [0.0000e+00, 0.0000e+00, 0.0000e+00,  ..., 0.0000e+00,\n",
       "            0.0000e+00, 0.0000e+00],\n",
       "           [0.0000e+00, 0.0000e+00, 0.0000e+00,  ..., 0.0000e+00,\n",
       "            0.0000e+00, 1.3208e-01]],\n",
       " \n",
       "          [[0.0000e+00, 0.0000e+00, 1.4544e-01,  ..., 9.9541e-02,\n",
       "            0.0000e+00, 0.0000e+00],\n",
       "           [2.4138e-02, 4.9571e-01, 1.0225e+00,  ..., 1.6774e+00,\n",
       "            2.5570e+00, 1.8869e+00],\n",
       "           [2.8933e-01, 7.5056e-01, 1.4058e+00,  ..., 1.6315e+00,\n",
       "            8.2768e-01, 0.0000e+00],\n",
       "           ...,\n",
       "           [0.0000e+00, 7.9122e-01, 1.9290e+00,  ..., 2.1665e+00,\n",
       "            0.0000e+00, 0.0000e+00],\n",
       "           [0.0000e+00, 9.6088e-01, 2.0167e+00,  ..., 3.1743e+00,\n",
       "            1.3753e+00, 4.2393e-02],\n",
       "           [3.3123e-02, 1.1897e+00, 1.6633e+00,  ..., 2.8904e+00,\n",
       "            2.7280e+00, 2.0290e+00]],\n",
       " \n",
       "          [[0.0000e+00, 0.0000e+00, 0.0000e+00,  ..., 3.2028e-01,\n",
       "            0.0000e+00, 0.0000e+00],\n",
       "           [0.0000e+00, 0.0000e+00, 1.6423e-01,  ..., 6.2361e-01,\n",
       "            3.7062e-01, 4.2596e-01],\n",
       "           [1.1988e-01, 2.0679e-01, 6.6376e-01,  ..., 4.5369e-01,\n",
       "            0.0000e+00, 0.0000e+00],\n",
       "           ...,\n",
       "           [1.2424e-01, 1.8764e+00, 1.5595e+00,  ..., 7.2065e-01,\n",
       "            1.1103e-01, 0.0000e+00],\n",
       "           [0.0000e+00, 4.8893e-01, 0.0000e+00,  ..., 0.0000e+00,\n",
       "            5.1301e-01, 0.0000e+00],\n",
       "           [0.0000e+00, 0.0000e+00, 0.0000e+00,  ..., 0.0000e+00,\n",
       "            9.4478e-01, 3.3348e-01]]]]),\n",
       " 'targets': ['lookdown',\n",
       "  'rotateleft',\n",
       "  'moveahead',\n",
       "  'moveahead',\n",
       "  'rotateright',\n",
       "  'moveahead',\n",
       "  'moveahead',\n",
       "  'moveahead',\n",
       "  'moveahead',\n",
       "  'moveahead',\n",
       "  'moveahead',\n",
       "  'moveahead',\n",
       "  'moveahead',\n",
       "  'pickupobject',\n",
       "  'rotateright',\n",
       "  'rotateright',\n",
       "  'moveahead',\n",
       "  'moveahead',\n",
       "  'moveahead',\n",
       "  'rotateleft',\n",
       "  'moveahead',\n",
       "  'moveahead',\n",
       "  'moveahead',\n",
       "  'moveahead',\n",
       "  'moveahead',\n",
       "  'moveahead',\n",
       "  'moveahead',\n",
       "  'moveahead',\n",
       "  'moveahead',\n",
       "  'moveahead',\n",
       "  'moveahead',\n",
       "  'moveahead',\n",
       "  'rotateleft',\n",
       "  'moveahead',\n",
       "  'moveahead',\n",
       "  'moveahead',\n",
       "  'moveahead',\n",
       "  'rotateright',\n",
       "  'moveahead',\n",
       "  'moveahead',\n",
       "  'moveahead',\n",
       "  'lookup',\n",
       "  'toggleobjecton']}"
      ]
     },
     "execution_count": 5,
     "metadata": {},
     "output_type": "execute_result"
    }
   ],
   "source": [
    "test_dataset[0]"
   ]
  },
  {
   "cell_type": "code",
   "execution_count": 6,
   "metadata": {},
   "outputs": [],
   "source": [
    "mmgpt = MultyModalGPT2(cfg)\n",
    "mmgpt.train()\n",
    "mmgpt.set_adapter_training()\n",
    "opt = AdamW(mmgpt.get_trainable_params())"
   ]
  },
  {
   "cell_type": "code",
   "execution_count": 9,
   "metadata": {},
   "outputs": [
    {
     "name": "stdout",
     "output_type": "stream",
     "text": [
      "Epoch 1/10\n"
     ]
    },
    {
     "data": {
      "application/vnd.jupyter.widget-view+json": {
       "model_id": "7eaa3ab7f173425fa213c775b201e8ac",
       "version_major": 2,
       "version_minor": 0
      },
      "text/plain": [
       "TRAIN:   0%|          | 0/500 [00:00<?, ?it/s]"
      ]
     },
     "metadata": {},
     "output_type": "display_data"
    },
    {
     "data": {
      "application/vnd.jupyter.widget-view+json": {
       "model_id": "7bf979100fc348b68dd9e0c403347ae6",
       "version_major": 2,
       "version_minor": 0
      },
      "text/plain": [
       "EVAL :   0%|          | 0/500 [00:00<?, ?it/s]"
      ]
     },
     "metadata": {},
     "output_type": "display_data"
    },
    {
     "data": {
      "application/vnd.jupyter.widget-view+json": {
       "model_id": "fff3fbcc3be24a1a97014fe93f4cc526",
       "version_major": 2,
       "version_minor": 0
      },
      "text/plain": [
       "EVAL :   0%|          | 0/251 [00:00<?, ?it/s]"
      ]
     },
     "metadata": {},
     "output_type": "display_data"
    },
    {
     "name": "stdout",
     "output_type": "stream",
     "text": [
      "Epoch 2/10\n"
     ]
    },
    {
     "data": {
      "application/vnd.jupyter.widget-view+json": {
       "model_id": "029ba1c90f214ecfa0751b14618be7cb",
       "version_major": 2,
       "version_minor": 0
      },
      "text/plain": [
       "TRAIN:   0%|          | 0/500 [00:00<?, ?it/s]"
      ]
     },
     "metadata": {},
     "output_type": "display_data"
    },
    {
     "data": {
      "application/vnd.jupyter.widget-view+json": {
       "model_id": "e613fc24476547128e07185d5d3ed2be",
       "version_major": 2,
       "version_minor": 0
      },
      "text/plain": [
       "EVAL :   0%|          | 0/500 [00:00<?, ?it/s]"
      ]
     },
     "metadata": {},
     "output_type": "display_data"
    },
    {
     "data": {
      "application/vnd.jupyter.widget-view+json": {
       "model_id": "3c39072e2612424eb9dea6d3cd506aab",
       "version_major": 2,
       "version_minor": 0
      },
      "text/plain": [
       "EVAL :   0%|          | 0/251 [00:00<?, ?it/s]"
      ]
     },
     "metadata": {},
     "output_type": "display_data"
    },
    {
     "name": "stdout",
     "output_type": "stream",
     "text": [
      "Epoch 3/10\n"
     ]
    },
    {
     "data": {
      "application/vnd.jupyter.widget-view+json": {
       "model_id": "1185df75597f4c00a8d09b7e326b97c7",
       "version_major": 2,
       "version_minor": 0
      },
      "text/plain": [
       "TRAIN:   0%|          | 0/500 [00:00<?, ?it/s]"
      ]
     },
     "metadata": {},
     "output_type": "display_data"
    },
    {
     "data": {
      "application/vnd.jupyter.widget-view+json": {
       "model_id": "f38f219fdc114948b913ce851c10e2f7",
       "version_major": 2,
       "version_minor": 0
      },
      "text/plain": [
       "EVAL :   0%|          | 0/500 [00:00<?, ?it/s]"
      ]
     },
     "metadata": {},
     "output_type": "display_data"
    },
    {
     "data": {
      "application/vnd.jupyter.widget-view+json": {
       "model_id": "3dcc480825bd415da79da348e3edef31",
       "version_major": 2,
       "version_minor": 0
      },
      "text/plain": [
       "EVAL :   0%|          | 0/251 [00:00<?, ?it/s]"
      ]
     },
     "metadata": {},
     "output_type": "display_data"
    },
    {
     "name": "stdout",
     "output_type": "stream",
     "text": [
      "Epoch 4/10\n"
     ]
    },
    {
     "data": {
      "application/vnd.jupyter.widget-view+json": {
       "model_id": "f5cd0054cc2749468fac38779681847f",
       "version_major": 2,
       "version_minor": 0
      },
      "text/plain": [
       "TRAIN:   0%|          | 0/500 [00:00<?, ?it/s]"
      ]
     },
     "metadata": {},
     "output_type": "display_data"
    },
    {
     "data": {
      "application/vnd.jupyter.widget-view+json": {
       "model_id": "3c4820a03420477d842edfc5e750ea5f",
       "version_major": 2,
       "version_minor": 0
      },
      "text/plain": [
       "EVAL :   0%|          | 0/500 [00:00<?, ?it/s]"
      ]
     },
     "metadata": {},
     "output_type": "display_data"
    },
    {
     "data": {
      "application/vnd.jupyter.widget-view+json": {
       "model_id": "27d812b883cd4951a2b4a0540c6926f5",
       "version_major": 2,
       "version_minor": 0
      },
      "text/plain": [
       "EVAL :   0%|          | 0/251 [00:00<?, ?it/s]"
      ]
     },
     "metadata": {},
     "output_type": "display_data"
    },
    {
     "name": "stdout",
     "output_type": "stream",
     "text": [
      "Epoch 5/10\n"
     ]
    },
    {
     "data": {
      "application/vnd.jupyter.widget-view+json": {
       "model_id": "961c7f61bb1d4474958d750869f2b66d",
       "version_major": 2,
       "version_minor": 0
      },
      "text/plain": [
       "TRAIN:   0%|          | 0/500 [00:00<?, ?it/s]"
      ]
     },
     "metadata": {},
     "output_type": "display_data"
    },
    {
     "data": {
      "application/vnd.jupyter.widget-view+json": {
       "model_id": "a6baa24ddaea427aa287b50e09819c0c",
       "version_major": 2,
       "version_minor": 0
      },
      "text/plain": [
       "EVAL :   0%|          | 0/500 [00:00<?, ?it/s]"
      ]
     },
     "metadata": {},
     "output_type": "display_data"
    },
    {
     "data": {
      "application/vnd.jupyter.widget-view+json": {
       "model_id": "2c6aab7a9c84469da1fa925c14ec018a",
       "version_major": 2,
       "version_minor": 0
      },
      "text/plain": [
       "EVAL :   0%|          | 0/251 [00:00<?, ?it/s]"
      ]
     },
     "metadata": {},
     "output_type": "display_data"
    },
    {
     "name": "stdout",
     "output_type": "stream",
     "text": [
      "Epoch 6/10\n"
     ]
    },
    {
     "data": {
      "application/vnd.jupyter.widget-view+json": {
       "model_id": "742ed9b6092e4ca9a70d8f568921a3dc",
       "version_major": 2,
       "version_minor": 0
      },
      "text/plain": [
       "TRAIN:   0%|          | 0/500 [00:00<?, ?it/s]"
      ]
     },
     "metadata": {},
     "output_type": "display_data"
    },
    {
     "data": {
      "application/vnd.jupyter.widget-view+json": {
       "model_id": "9701cc819f68428dac1117c2d4475ad5",
       "version_major": 2,
       "version_minor": 0
      },
      "text/plain": [
       "EVAL :   0%|          | 0/500 [00:00<?, ?it/s]"
      ]
     },
     "metadata": {},
     "output_type": "display_data"
    },
    {
     "data": {
      "application/vnd.jupyter.widget-view+json": {
       "model_id": "ac145e476b54499bbdc349c5a884e738",
       "version_major": 2,
       "version_minor": 0
      },
      "text/plain": [
       "EVAL :   0%|          | 0/251 [00:00<?, ?it/s]"
      ]
     },
     "metadata": {},
     "output_type": "display_data"
    },
    {
     "name": "stdout",
     "output_type": "stream",
     "text": [
      "Epoch 7/10\n"
     ]
    },
    {
     "data": {
      "application/vnd.jupyter.widget-view+json": {
       "model_id": "ef24fe74099c41bfbd62608654a8ddef",
       "version_major": 2,
       "version_minor": 0
      },
      "text/plain": [
       "TRAIN:   0%|          | 0/500 [00:00<?, ?it/s]"
      ]
     },
     "metadata": {},
     "output_type": "display_data"
    },
    {
     "data": {
      "application/vnd.jupyter.widget-view+json": {
       "model_id": "ab1f19de81ee4bd5b33e7be2491ac490",
       "version_major": 2,
       "version_minor": 0
      },
      "text/plain": [
       "EVAL :   0%|          | 0/500 [00:00<?, ?it/s]"
      ]
     },
     "metadata": {},
     "output_type": "display_data"
    },
    {
     "data": {
      "application/vnd.jupyter.widget-view+json": {
       "model_id": "10dfcf24f8954968b6674992c87637d3",
       "version_major": 2,
       "version_minor": 0
      },
      "text/plain": [
       "EVAL :   0%|          | 0/251 [00:00<?, ?it/s]"
      ]
     },
     "metadata": {},
     "output_type": "display_data"
    },
    {
     "name": "stdout",
     "output_type": "stream",
     "text": [
      "Epoch 8/10\n"
     ]
    },
    {
     "data": {
      "application/vnd.jupyter.widget-view+json": {
       "model_id": "4c1eaab1fede4fac8b1fde38d7e3827f",
       "version_major": 2,
       "version_minor": 0
      },
      "text/plain": [
       "TRAIN:   0%|          | 0/500 [00:00<?, ?it/s]"
      ]
     },
     "metadata": {},
     "output_type": "display_data"
    },
    {
     "data": {
      "application/vnd.jupyter.widget-view+json": {
       "model_id": "98c7a7f238c94c7fbb3a78aaa5a3be16",
       "version_major": 2,
       "version_minor": 0
      },
      "text/plain": [
       "EVAL :   0%|          | 0/500 [00:00<?, ?it/s]"
      ]
     },
     "metadata": {},
     "output_type": "display_data"
    },
    {
     "data": {
      "application/vnd.jupyter.widget-view+json": {
       "model_id": "ec076cf50daa45c5ac981a68679ae1e9",
       "version_major": 2,
       "version_minor": 0
      },
      "text/plain": [
       "EVAL :   0%|          | 0/251 [00:00<?, ?it/s]"
      ]
     },
     "metadata": {},
     "output_type": "display_data"
    },
    {
     "name": "stdout",
     "output_type": "stream",
     "text": [
      "Epoch 9/10\n"
     ]
    },
    {
     "data": {
      "application/vnd.jupyter.widget-view+json": {
       "model_id": "e9294387bea942a786a818dd402a0c83",
       "version_major": 2,
       "version_minor": 0
      },
      "text/plain": [
       "TRAIN:   0%|          | 0/500 [00:00<?, ?it/s]"
      ]
     },
     "metadata": {},
     "output_type": "display_data"
    },
    {
     "data": {
      "application/vnd.jupyter.widget-view+json": {
       "model_id": "62c92a8ef2d24abda75445304ef2c2ac",
       "version_major": 2,
       "version_minor": 0
      },
      "text/plain": [
       "EVAL :   0%|          | 0/500 [00:00<?, ?it/s]"
      ]
     },
     "metadata": {},
     "output_type": "display_data"
    },
    {
     "data": {
      "application/vnd.jupyter.widget-view+json": {
       "model_id": "a224105d5b804605811e2a4913b3a6b4",
       "version_major": 2,
       "version_minor": 0
      },
      "text/plain": [
       "EVAL :   0%|          | 0/251 [00:00<?, ?it/s]"
      ]
     },
     "metadata": {},
     "output_type": "display_data"
    },
    {
     "name": "stdout",
     "output_type": "stream",
     "text": [
      "Epoch 10/10\n"
     ]
    },
    {
     "data": {
      "application/vnd.jupyter.widget-view+json": {
       "model_id": "446cd918c9b040578f024898aee0a8e2",
       "version_major": 2,
       "version_minor": 0
      },
      "text/plain": [
       "TRAIN:   0%|          | 0/500 [00:00<?, ?it/s]"
      ]
     },
     "metadata": {},
     "output_type": "display_data"
    },
    {
     "data": {
      "application/vnd.jupyter.widget-view+json": {
       "model_id": "8bb0213f876242e581ead8de0a0a62aa",
       "version_major": 2,
       "version_minor": 0
      },
      "text/plain": [
       "EVAL :   0%|          | 0/500 [00:00<?, ?it/s]"
      ]
     },
     "metadata": {},
     "output_type": "display_data"
    },
    {
     "data": {
      "application/vnd.jupyter.widget-view+json": {
       "model_id": "21e5c3d584fc48aa8f0303cda44f48f2",
       "version_major": 2,
       "version_minor": 0
      },
      "text/plain": [
       "EVAL :   0%|          | 0/251 [00:00<?, ?it/s]"
      ]
     },
     "metadata": {},
     "output_type": "display_data"
    }
   ],
   "source": [
    "history = train_loop(mmgpt, train_dataset, test_dataset, opt, cfg)"
   ]
  },
  {
   "cell_type": "code",
   "execution_count": 10,
   "metadata": {},
   "outputs": [
    {
     "data": {
      "text/plain": [
       "<matplotlib.legend.Legend at 0x2628dc66bc0>"
      ]
     },
     "execution_count": 10,
     "metadata": {},
     "output_type": "execute_result"
    },
    {
     "data": {
      "image/png": "[encoded data removed]",
      "text/plain": [
       "<Figure size 640x480 with 1 Axes>"
      ]
     },
     "metadata": {},
     "output_type": "display_data"
    }
   ],
   "source": [
    "plt.title(\"Loss\")\n",
    "plt.plot(history[\"train_loss\"], label=\"train\")\n",
    "plt.plot(history[\"test_loss\"], label=\"test\")\n",
    "plt.grid()\n",
    "plt.legend()"
   ]
  },
  {
   "cell_type": "code",
   "execution_count": 11,
   "metadata": {},
   "outputs": [
    {
     "data": {
      "text/plain": [
       "<matplotlib.legend.Legend at 0x2628dd332e0>"
      ]
     },
     "execution_count": 11,
     "metadata": {},
     "output_type": "execute_result"
    },
    {
     "data": {
      "image/png": "[encoded data removed]",
      "text/plain": [
       "<Figure size 640x480 with 1 Axes>"
      ]
     },
     "metadata": {},
     "output_type": "display_data"
    }
   ],
   "source": [
    "plt.title(\"Accuracy\")\n",
    "plt.plot(history[\"train_acc\"], label=\"train\")\n",
    "plt.plot(history[\"test_acc\"], label=\"test\")\n",
    "plt.grid()\n",
    "plt.legend()"
   ]
  },
  {
   "cell_type": "code",
   "execution_count": 12,
   "metadata": {},
   "outputs": [
    {
     "data": {
      "text/plain": [
       "<matplotlib.legend.Legend at 0x2628dd81db0>"
      ]
     },
     "execution_count": 12,
     "metadata": {},
     "output_type": "execute_result"
    },
    {
     "data": {
      "image/png": "[encoded data removed]",
      "text/plain": [
       "<Figure size 640x480 with 1 Axes>"
      ]
     },
     "metadata": {},
     "output_type": "display_data"
    }
   ],
   "source": [
    "plt.title(\"CER\")\n",
    "plt.plot(history[\"train_cer\"], label=\"train\")\n",
    "plt.plot(history[\"test_cer\"], label=\"test\")\n",
    "plt.grid()\n",
    "plt.legend()"
   ]
  },
  {
   "cell_type": "code",
   "execution_count": null,
   "metadata": {},
   "outputs": [],
   "source": []
  },
  {
   "cell_type": "code",
   "execution_count": null,
   "metadata": {},
   "outputs": [],
   "source": []
  }
 ],
 "metadata": {
  "kernelspec": {
   "display_name": ".venv",
   "language": "python",
   "name": "python3"
  },
  "language_info": {
   "codemirror_mode": {
    "name": "ipython",
    "version": 3
   },
   "file_extension": ".py",
   "mimetype": "text/x-python",
   "name": "python",
   "nbconvert_exporter": "python",
   "pygments_lexer": "ipython3",
   "version": "3.10.7"
  },
  "orig_nbformat": 4
 },
 "nbformat": 4,
 "nbformat_minor": 2
}
