{
 "cells": [
  {
   "cell_type": "code",
   "execution_count": 1,
   "metadata": {},
   "outputs": [],
   "source": [
    "import torch"
   ]
  },
  {
   "cell_type": "code",
   "execution_count": 2,
   "metadata": {},
   "outputs": [
    {
     "data": {
      "text/plain": [
       "(tensor([[1., 1., 1., 1., 1., 1., 1., 1., 1., 1.],\n",
       "         [1., 1., 1., 1., 1., 1., 1., 1., 1., 1.],\n",
       "         [1., 1., 1., 1., 1., 1., 1., 1., 1., 1.],\n",
       "         [1., 1., 1., 1., 1., 1., 1., 1., 1., 1.],\n",
       "         [1., 1., 1., 1., 1., 1., 1., 1., 1., 1.],\n",
       "         [1., 1., 1., 1., 1., 1., 1., 1., 1., 1.],\n",
       "         [1., 1., 1., 1., 1., 1., 1., 1., 1., 1.],\n",
       "         [1., 1., 1., 1., 1., 1., 1., 1., 1., 1.]]),\n",
       " tensor([[1., 2., 3.],\n",
       "         [4., 5., 6.],\n",
       "         [1., 2., 3.],\n",
       "         [4., 5., 6.],\n",
       "         [1., 2., 3.],\n",
       "         [4., 5., 6.],\n",
       "         [1., 2., 3.],\n",
       "         [4., 5., 6.]]),\n",
       " tensor([[1., 1., 1., 1., 1., 1., 1., 1., 1., 1., 1., 2., 3.],\n",
       "         [1., 1., 1., 1., 1., 1., 1., 1., 1., 1., 4., 5., 6.],\n",
       "         [1., 1., 1., 1., 1., 1., 1., 1., 1., 1., 1., 2., 3.],\n",
       "         [1., 1., 1., 1., 1., 1., 1., 1., 1., 1., 4., 5., 6.],\n",
       "         [1., 1., 1., 1., 1., 1., 1., 1., 1., 1., 1., 2., 3.],\n",
       "         [1., 1., 1., 1., 1., 1., 1., 1., 1., 1., 4., 5., 6.],\n",
       "         [1., 1., 1., 1., 1., 1., 1., 1., 1., 1., 1., 2., 3.],\n",
       "         [1., 1., 1., 1., 1., 1., 1., 1., 1., 1., 4., 5., 6.]]))"
      ]
     },
     "execution_count": 2,
     "metadata": {},
     "output_type": "execute_result"
    }
   ],
   "source": [
    "a = torch.ones((8, 10))\n",
    "b = torch.Tensor([\n",
    "    [1, 2, 3],\n",
    "    [4, 5, 6]\n",
    "])\n",
    "times = a.shape[0] // b.shape[0]\n",
    "b = torch.tile(b, (times, 1))\n",
    "c = torch.concat([a, b], dim=1)\n",
    "a, b, c"
   ]
  },
  {
   "cell_type": "code",
   "execution_count": null,
   "metadata": {},
   "outputs": [],
   "source": []
  }
 ],
 "metadata": {
  "kernelspec": {
   "display_name": ".venv",
   "language": "python",
   "name": "python3"
  },
  "language_info": {
   "codemirror_mode": {
    "name": "ipython",
    "version": 3
   },
   "file_extension": ".py",
   "mimetype": "text/x-python",
   "name": "python",
   "nbconvert_exporter": "python",
   "pygments_lexer": "ipython3",
   "version": "3.10.7"
  },
  "orig_nbformat": 4
 },
 "nbformat": 4,
 "nbformat_minor": 2
}
