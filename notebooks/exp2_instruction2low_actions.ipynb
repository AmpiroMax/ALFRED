{
 "cells": [
  {
   "cell_type": "code",
   "execution_count": 1,
   "metadata": {},
   "outputs": [],
   "source": [
    "%load_ext autoreload\n",
    "%autoreload 2"
   ]
  },
  {
   "cell_type": "code",
   "execution_count": 2,
   "metadata": {},
   "outputs": [],
   "source": [
    "from src.models.MultyModalGPT2 import MultyModalGPT2\n",
    "from src.data.shemas import ConfigData, ConfigTraining\n",
    "from src.data.datasets import AlfredDataset\n",
    "from src.pipelines.train_pipeline import train_loop\n",
    "\n",
    "from torch.optim import AdamW\n",
    "import matplotlib.pyplot as plt"
   ]
  },
  {
   "cell_type": "code",
   "execution_count": 3,
   "metadata": {},
   "outputs": [],
   "source": [
    "train_cfg = ConfigTraining(\n",
    "    train_data_path = \"../data/raw/json_feat_2.1.0/json_feat_2.1.0/train/\",\n",
    "    test_data_path = \"../data/raw/json_feat_2.1.0/json_feat_2.1.0/valid_seen/\",\n",
    "    epoch_num=10,\n",
    "    data_samples_num=500\n",
    ")\n",
    "\n",
    "cfg = ConfigData(\n",
    "    device=\"cuda\",\n",
    "    train_cfg=train_cfg\n",
    ")"
   ]
  },
  {
   "cell_type": "code",
   "execution_count": 4,
   "metadata": {},
   "outputs": [],
   "source": [
    "train_dataset = AlfredDataset(cfg, promt_type=\"instruction2low_actions\")\n",
    "test_dataset = AlfredDataset(cfg, dataset_type=\"test\", promt_type=\"instruction2low_actions\")"
   ]
  },
  {
   "cell_type": "code",
   "execution_count": 5,
   "metadata": {},
   "outputs": [
    {
     "data": {
      "text/plain": [
       "{'promts': ['<|endoftext|>Instruction: look at the clock under the lamp go to the table with the safe pick up the clock take the clock to the desk turn on the lamp. What is you action plan?<|endoftext|>',\n",
       "  '<|endoftext|>Instruction: look at an alarm clock by the light of a lamp. walk ahead and slightly left to the dresser. pick up the alarm clock on the dresser. turn right and walk around the couch, then veer left to the desk. turn on the desk lamp.. What is you action plan?<|endoftext|>',\n",
       "  '<|endoftext|>Instruction: look at an alarm clock by the light of a lamp. walk straight ahead to the dresser. pick up the alarm clock on the dresser. turn right and walk past the couch to the desk. turn on the desk lamp.. What is you action plan?<|endoftext|>'],\n",
       " 'images_features': None,\n",
       " 'targets': ['lookdown rotateleft moveahead moveahead rotateright moveahead moveahead moveahead moveahead moveahead moveahead moveahead moveahead pickupobject rotateright rotateright moveahead moveahead moveahead rotateleft moveahead moveahead moveahead moveahead moveahead moveahead moveahead moveahead moveahead moveahead moveahead moveahead rotateleft moveahead moveahead moveahead moveahead rotateright moveahead moveahead moveahead lookup toggleobjecton',\n",
       "  'lookdown rotateleft moveahead moveahead rotateright moveahead moveahead moveahead moveahead moveahead moveahead moveahead moveahead pickupobject rotateright rotateright moveahead moveahead moveahead rotateleft moveahead moveahead moveahead moveahead moveahead moveahead moveahead moveahead moveahead moveahead moveahead moveahead rotateleft moveahead moveahead moveahead moveahead rotateright moveahead moveahead moveahead lookup toggleobjecton',\n",
       "  'lookdown rotateleft moveahead moveahead rotateright moveahead moveahead moveahead moveahead moveahead moveahead moveahead moveahead pickupobject rotateright rotateright moveahead moveahead moveahead rotateleft moveahead moveahead moveahead moveahead moveahead moveahead moveahead moveahead moveahead moveahead moveahead moveahead rotateleft moveahead moveahead moveahead moveahead rotateright moveahead moveahead moveahead lookup toggleobjecton']}"
      ]
     },
     "execution_count": 5,
     "metadata": {},
     "output_type": "execute_result"
    }
   ],
   "source": [
    "test_dataset[0]"
   ]
  },
  {
   "cell_type": "code",
   "execution_count": 6,
   "metadata": {},
   "outputs": [],
   "source": [
    "mmgpt = MultyModalGPT2(cfg)\n",
    "mmgpt.train()\n",
    "# mmgpt.set_bias_training()\n",
    "opt = AdamW(mmgpt.get_trainable_params())"
   ]
  },
  {
   "cell_type": "code",
   "execution_count": 7,
   "metadata": {},
   "outputs": [
    {
     "name": "stdout",
     "output_type": "stream",
     "text": [
      "Epoch 1/10\n"
     ]
    },
    {
     "data": {
      "application/vnd.jupyter.widget-view+json": {
       "model_id": "278b4283bd274cbf9ec101a5276d53f9",
       "version_major": 2,
       "version_minor": 0
      },
      "text/plain": [
       "TRAIN:   0%|          | 0/500 [00:00<?, ?it/s]"
      ]
     },
     "metadata": {},
     "output_type": "display_data"
    },
    {
     "data": {
      "application/vnd.jupyter.widget-view+json": {
       "model_id": "fceda2bee3074c409e15a80209053d91",
       "version_major": 2,
       "version_minor": 0
      },
      "text/plain": [
       "EVAL :   0%|          | 0/500 [00:00<?, ?it/s]"
      ]
     },
     "metadata": {},
     "output_type": "display_data"
    },
    {
     "data": {
      "application/vnd.jupyter.widget-view+json": {
       "model_id": "6f4c7febc3ff45269a1a038d28f1f97f",
       "version_major": 2,
       "version_minor": 0
      },
      "text/plain": [
       "EVAL :   0%|          | 0/251 [00:00<?, ?it/s]"
      ]
     },
     "metadata": {},
     "output_type": "display_data"
    },
    {
     "name": "stdout",
     "output_type": "stream",
     "text": [
      "Epoch 2/10\n"
     ]
    },
    {
     "data": {
      "application/vnd.jupyter.widget-view+json": {
       "model_id": "9457fb21ee914a6eab9f59b457bf370d",
       "version_major": 2,
       "version_minor": 0
      },
      "text/plain": [
       "TRAIN:   0%|          | 0/500 [00:00<?, ?it/s]"
      ]
     },
     "metadata": {},
     "output_type": "display_data"
    },
    {
     "data": {
      "application/vnd.jupyter.widget-view+json": {
       "model_id": "837447961f7c4f4abc9dbcb3144fc6ac",
       "version_major": 2,
       "version_minor": 0
      },
      "text/plain": [
       "EVAL :   0%|          | 0/500 [00:00<?, ?it/s]"
      ]
     },
     "metadata": {},
     "output_type": "display_data"
    },
    {
     "data": {
      "application/vnd.jupyter.widget-view+json": {
       "model_id": "019d8dbcbf25464da2d5437e310baa9a",
       "version_major": 2,
       "version_minor": 0
      },
      "text/plain": [
       "EVAL :   0%|          | 0/251 [00:00<?, ?it/s]"
      ]
     },
     "metadata": {},
     "output_type": "display_data"
    },
    {
     "name": "stdout",
     "output_type": "stream",
     "text": [
      "Epoch 3/10\n"
     ]
    },
    {
     "data": {
      "application/vnd.jupyter.widget-view+json": {
       "model_id": "1ca3003258d34a1e8ed109bd92591cb1",
       "version_major": 2,
       "version_minor": 0
      },
      "text/plain": [
       "TRAIN:   0%|          | 0/500 [00:00<?, ?it/s]"
      ]
     },
     "metadata": {},
     "output_type": "display_data"
    },
    {
     "data": {
      "application/vnd.jupyter.widget-view+json": {
       "model_id": "ae5a2ed5694542c997c188de962b1b6b",
       "version_major": 2,
       "version_minor": 0
      },
      "text/plain": [
       "EVAL :   0%|          | 0/500 [00:00<?, ?it/s]"
      ]
     },
     "metadata": {},
     "output_type": "display_data"
    },
    {
     "data": {
      "application/vnd.jupyter.widget-view+json": {
       "model_id": "f2079413cc76420cb0d239ed077f309a",
       "version_major": 2,
       "version_minor": 0
      },
      "text/plain": [
       "EVAL :   0%|          | 0/251 [00:00<?, ?it/s]"
      ]
     },
     "metadata": {},
     "output_type": "display_data"
    },
    {
     "name": "stdout",
     "output_type": "stream",
     "text": [
      "Epoch 4/10\n"
     ]
    },
    {
     "data": {
      "application/vnd.jupyter.widget-view+json": {
       "model_id": "57a46459c7a044c6bd134fea571b0ac0",
       "version_major": 2,
       "version_minor": 0
      },
      "text/plain": [
       "TRAIN:   0%|          | 0/500 [00:00<?, ?it/s]"
      ]
     },
     "metadata": {},
     "output_type": "display_data"
    },
    {
     "data": {
      "application/vnd.jupyter.widget-view+json": {
       "model_id": "6f6f16dac0ae47a084a963bb72ff77aa",
       "version_major": 2,
       "version_minor": 0
      },
      "text/plain": [
       "EVAL :   0%|          | 0/500 [00:00<?, ?it/s]"
      ]
     },
     "metadata": {},
     "output_type": "display_data"
    },
    {
     "data": {
      "application/vnd.jupyter.widget-view+json": {
       "model_id": "a01c05fa9d6447799dac7fc37caccd99",
       "version_major": 2,
       "version_minor": 0
      },
      "text/plain": [
       "EVAL :   0%|          | 0/251 [00:00<?, ?it/s]"
      ]
     },
     "metadata": {},
     "output_type": "display_data"
    },
    {
     "name": "stdout",
     "output_type": "stream",
     "text": [
      "Epoch 5/10\n"
     ]
    },
    {
     "data": {
      "application/vnd.jupyter.widget-view+json": {
       "model_id": "9dcc307162174ca9b77204202298254f",
       "version_major": 2,
       "version_minor": 0
      },
      "text/plain": [
       "TRAIN:   0%|          | 0/500 [00:00<?, ?it/s]"
      ]
     },
     "metadata": {},
     "output_type": "display_data"
    },
    {
     "data": {
      "application/vnd.jupyter.widget-view+json": {
       "model_id": "808f7b638b0349d3806c680ef7a31bd0",
       "version_major": 2,
       "version_minor": 0
      },
      "text/plain": [
       "EVAL :   0%|          | 0/500 [00:00<?, ?it/s]"
      ]
     },
     "metadata": {},
     "output_type": "display_data"
    },
    {
     "data": {
      "application/vnd.jupyter.widget-view+json": {
       "model_id": "b2511a459d344358b73823053462dbfd",
       "version_major": 2,
       "version_minor": 0
      },
      "text/plain": [
       "EVAL :   0%|          | 0/251 [00:00<?, ?it/s]"
      ]
     },
     "metadata": {},
     "output_type": "display_data"
    },
    {
     "name": "stdout",
     "output_type": "stream",
     "text": [
      "Epoch 6/10\n"
     ]
    },
    {
     "data": {
      "application/vnd.jupyter.widget-view+json": {
       "model_id": "208e0a0e4081497b9d3fcd44c353d0f3",
       "version_major": 2,
       "version_minor": 0
      },
      "text/plain": [
       "TRAIN:   0%|          | 0/500 [00:00<?, ?it/s]"
      ]
     },
     "metadata": {},
     "output_type": "display_data"
    },
    {
     "data": {
      "application/vnd.jupyter.widget-view+json": {
       "model_id": "f7813a2873154754a1a7cee674e4901b",
       "version_major": 2,
       "version_minor": 0
      },
      "text/plain": [
       "EVAL :   0%|          | 0/500 [00:00<?, ?it/s]"
      ]
     },
     "metadata": {},
     "output_type": "display_data"
    },
    {
     "data": {
      "application/vnd.jupyter.widget-view+json": {
       "model_id": "a4932b4791274e70970f6731025545d7",
       "version_major": 2,
       "version_minor": 0
      },
      "text/plain": [
       "EVAL :   0%|          | 0/251 [00:00<?, ?it/s]"
      ]
     },
     "metadata": {},
     "output_type": "display_data"
    },
    {
     "name": "stdout",
     "output_type": "stream",
     "text": [
      "Epoch 7/10\n"
     ]
    },
    {
     "data": {
      "application/vnd.jupyter.widget-view+json": {
       "model_id": "530aa7a18e1f4a4d8776492185d0e005",
       "version_major": 2,
       "version_minor": 0
      },
      "text/plain": [
       "TRAIN:   0%|          | 0/500 [00:00<?, ?it/s]"
      ]
     },
     "metadata": {},
     "output_type": "display_data"
    },
    {
     "data": {
      "application/vnd.jupyter.widget-view+json": {
       "model_id": "73ce9f3c32694b2998e0689ac64a9a51",
       "version_major": 2,
       "version_minor": 0
      },
      "text/plain": [
       "EVAL :   0%|          | 0/500 [00:00<?, ?it/s]"
      ]
     },
     "metadata": {},
     "output_type": "display_data"
    },
    {
     "data": {
      "application/vnd.jupyter.widget-view+json": {
       "model_id": "8c8e7499987a4622a747d8d6c7d1df75",
       "version_major": 2,
       "version_minor": 0
      },
      "text/plain": [
       "EVAL :   0%|          | 0/251 [00:00<?, ?it/s]"
      ]
     },
     "metadata": {},
     "output_type": "display_data"
    },
    {
     "name": "stdout",
     "output_type": "stream",
     "text": [
      "Epoch 8/10\n"
     ]
    },
    {
     "data": {
      "application/vnd.jupyter.widget-view+json": {
       "model_id": "1f9a02f9e30f4c8fbdcea66d3cd82e93",
       "version_major": 2,
       "version_minor": 0
      },
      "text/plain": [
       "TRAIN:   0%|          | 0/500 [00:00<?, ?it/s]"
      ]
     },
     "metadata": {},
     "output_type": "display_data"
    },
    {
     "data": {
      "application/vnd.jupyter.widget-view+json": {
       "model_id": "699097744ac243f9a0b028c214a870a5",
       "version_major": 2,
       "version_minor": 0
      },
      "text/plain": [
       "EVAL :   0%|          | 0/500 [00:00<?, ?it/s]"
      ]
     },
     "metadata": {},
     "output_type": "display_data"
    },
    {
     "data": {
      "application/vnd.jupyter.widget-view+json": {
       "model_id": "0ef32575b27a48b6b37196022c24fcd9",
       "version_major": 2,
       "version_minor": 0
      },
      "text/plain": [
       "EVAL :   0%|          | 0/251 [00:00<?, ?it/s]"
      ]
     },
     "metadata": {},
     "output_type": "display_data"
    },
    {
     "name": "stdout",
     "output_type": "stream",
     "text": [
      "Epoch 9/10\n"
     ]
    },
    {
     "data": {
      "application/vnd.jupyter.widget-view+json": {
       "model_id": "94adc3de81414f64ba2f31816b9b80d0",
       "version_major": 2,
       "version_minor": 0
      },
      "text/plain": [
       "TRAIN:   0%|          | 0/500 [00:00<?, ?it/s]"
      ]
     },
     "metadata": {},
     "output_type": "display_data"
    },
    {
     "data": {
      "application/vnd.jupyter.widget-view+json": {
       "model_id": "47c4879136914ac9b099d18a2d60a576",
       "version_major": 2,
       "version_minor": 0
      },
      "text/plain": [
       "EVAL :   0%|          | 0/500 [00:00<?, ?it/s]"
      ]
     },
     "metadata": {},
     "output_type": "display_data"
    },
    {
     "data": {
      "application/vnd.jupyter.widget-view+json": {
       "model_id": "dfb3833db41548fbbe342466333d1d61",
       "version_major": 2,
       "version_minor": 0
      },
      "text/plain": [
       "EVAL :   0%|          | 0/251 [00:00<?, ?it/s]"
      ]
     },
     "metadata": {},
     "output_type": "display_data"
    },
    {
     "name": "stdout",
     "output_type": "stream",
     "text": [
      "Epoch 10/10\n"
     ]
    },
    {
     "data": {
      "application/vnd.jupyter.widget-view+json": {
       "model_id": "04f38199a3ae40c38e371912efa83348",
       "version_major": 2,
       "version_minor": 0
      },
      "text/plain": [
       "TRAIN:   0%|          | 0/500 [00:00<?, ?it/s]"
      ]
     },
     "metadata": {},
     "output_type": "display_data"
    },
    {
     "data": {
      "application/vnd.jupyter.widget-view+json": {
       "model_id": "85b55def21b2493b972a786aa8a15de8",
       "version_major": 2,
       "version_minor": 0
      },
      "text/plain": [
       "EVAL :   0%|          | 0/500 [00:00<?, ?it/s]"
      ]
     },
     "metadata": {},
     "output_type": "display_data"
    },
    {
     "data": {
      "application/vnd.jupyter.widget-view+json": {
       "model_id": "bd4b6ab280634eafb4798d4d71df7204",
       "version_major": 2,
       "version_minor": 0
      },
      "text/plain": [
       "EVAL :   0%|          | 0/251 [00:00<?, ?it/s]"
      ]
     },
     "metadata": {},
     "output_type": "display_data"
    }
   ],
   "source": [
    "history = train_loop(mmgpt, train_dataset, test_dataset, opt, cfg)"
   ]
  },
  {
   "cell_type": "code",
   "execution_count": 8,
   "metadata": {},
   "outputs": [
    {
     "data": {
      "text/plain": [
       "<matplotlib.legend.Legend at 0x223417fdde0>"
      ]
     },
     "execution_count": 8,
     "metadata": {},
     "output_type": "execute_result"
    },
    {
     "data": {
      "image/png": "[encoded data removed]",
      "text/plain": [
       "<Figure size 640x480 with 1 Axes>"
      ]
     },
     "metadata": {},
     "output_type": "display_data"
    }
   ],
   "source": [
    "plt.title(\"Loss\")\n",
    "plt.plot(history[\"train_loss\"], label=\"train\")\n",
    "plt.plot(history[\"test_loss\"], label=\"test\")\n",
    "plt.grid()\n",
    "plt.legend()"
   ]
  },
  {
   "cell_type": "code",
   "execution_count": 9,
   "metadata": {},
   "outputs": [
    {
     "data": {
      "text/plain": [
       "<matplotlib.legend.Legend at 0x22341777dc0>"
      ]
     },
     "execution_count": 9,
     "metadata": {},
     "output_type": "execute_result"
    },
    {
     "data": {
      "image/png": "[encoded data removed]",
      "text/plain": [
       "<Figure size 640x480 with 1 Axes>"
      ]
     },
     "metadata": {},
     "output_type": "display_data"
    }
   ],
   "source": [
    "plt.title(\"Accuracy\")\n",
    "plt.plot(history[\"train_acc\"], label=\"train\")\n",
    "plt.plot(history[\"test_acc\"], label=\"test\")\n",
    "plt.grid()\n",
    "plt.legend()"
   ]
  },
  {
   "cell_type": "code",
   "execution_count": 10,
   "metadata": {},
   "outputs": [
    {
     "data": {
      "text/plain": [
       "<matplotlib.legend.Legend at 0x2234f1c5ea0>"
      ]
     },
     "execution_count": 10,
     "metadata": {},
     "output_type": "execute_result"
    },
    {
     "data": {
      "image/png": "[encoded data removed]",
      "text/plain": [
       "<Figure size 640x480 with 1 Axes>"
      ]
     },
     "metadata": {},
     "output_type": "display_data"
    }
   ],
   "source": [
    "plt.title(\"CER\")\n",
    "plt.plot(history[\"train_cer\"], label=\"train\")\n",
    "plt.plot(history[\"test_cer\"], label=\"test\")\n",
    "plt.grid()\n",
    "plt.legend()"
   ]
  },
  {
   "cell_type": "code",
   "execution_count": null,
   "metadata": {},
   "outputs": [],
   "source": []
  }
 ],
 "metadata": {
  "kernelspec": {
   "display_name": ".venv",
   "language": "python",
   "name": "python3"
  },
  "language_info": {
   "codemirror_mode": {
    "name": "ipython",
    "version": 3
   },
   "file_extension": ".py",
   "mimetype": "text/x-python",
   "name": "python",
   "nbconvert_exporter": "python",
   "pygments_lexer": "ipython3",
   "version": "3.10.7"
  },
  "orig_nbformat": 4
 },
 "nbformat": 4,
 "nbformat_minor": 2
}
