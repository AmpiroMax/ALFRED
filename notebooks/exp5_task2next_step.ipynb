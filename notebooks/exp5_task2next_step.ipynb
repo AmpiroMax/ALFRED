{
 "cells": [
  {
   "cell_type": "code",
   "execution_count": 1,
   "metadata": {},
   "outputs": [],
   "source": [
    "%load_ext autoreload\n",
    "%autoreload 2"
   ]
  },
  {
   "cell_type": "code",
   "execution_count": 2,
   "metadata": {},
   "outputs": [],
   "source": [
    "from src.models.MultyModalGPT2 import MultyModalGPT2\n",
    "from src.data.shemas import ConfigData, ConfigTraining\n",
    "from src.data.datasets import AlfredDataset\n",
    "from src.pipelines.train_pipeline import train_loop\n",
    "\n",
    "from torch.optim import AdamW\n",
    "import matplotlib.pyplot as plt"
   ]
  },
  {
   "cell_type": "code",
   "execution_count": 3,
   "metadata": {},
   "outputs": [],
   "source": [
    "train_cfg = ConfigTraining(\n",
    "    train_data_path = \"../data/raw/json_feat_2.1.0/json_feat_2.1.0/train/\",\n",
    "    test_data_path = \"../data/raw/json_feat_2.1.0/json_feat_2.1.0/valid_seen/\",\n",
    "    epoch_num=10,\n",
    "    data_samples_num=500\n",
    ")\n",
    "\n",
    "cfg = ConfigData(\n",
    "    device=\"cuda\",\n",
    "    train_cfg=train_cfg\n",
    ")"
   ]
  },
  {
   "cell_type": "code",
   "execution_count": 4,
   "metadata": {},
   "outputs": [],
   "source": [
    "train_dataset = AlfredDataset(cfg, promt_type=\"task2next_step\")\n",
    "test_dataset = AlfredDataset(cfg, dataset_type=\"test\", promt_type=\"task2next_step\")"
   ]
  },
  {
   "cell_type": "code",
   "execution_count": 5,
   "metadata": {},
   "outputs": [
    {
     "data": {
      "text/plain": [
       "{'promts': ['<|endoftext|>Task: pick up the alarm clock and turn on the lamp.. Your previous actions: . What is you next step?<|endoftext|>',\n",
       "  '<|endoftext|>Task: pick up the alarm clock and turn on the lamp.. Your previous actions: lookdown. What is you next step?<|endoftext|>',\n",
       "  '<|endoftext|>Task: pick up the alarm clock and turn on the lamp.. Your previous actions: lookdown. moveahead. What is you next step?<|endoftext|>',\n",
       "  '<|endoftext|>Task: pick up the alarm clock and turn on the lamp.. Your previous actions: lookdown. moveahead. moveahead. What is you next step?<|endoftext|>',\n",
       "  '<|endoftext|>Task: pick up the alarm clock and turn on the lamp.. Your previous actions: lookdown. moveahead. moveahead. rotateleft. What is you next step?<|endoftext|>',\n",
       "  '<|endoftext|>Task: pick up the alarm clock and turn on the lamp.. Your previous actions: lookdown. moveahead. moveahead. rotateleft. lookup. What is you next step?<|endoftext|>',\n",
       "  '<|endoftext|>Task: pick up the alarm clock and turn on the lamp.. Your previous actions: lookdown. moveahead. moveahead. rotateleft. lookup. pickupobject. What is you next step?<|endoftext|>',\n",
       "  '<|endoftext|>Task: pick up the alarm clock and turn on the lamp.. Your previous actions: lookdown. moveahead. moveahead. rotateleft. lookup. pickupobject. lookdown. What is you next step?<|endoftext|>',\n",
       "  '<|endoftext|>Task: pick up the alarm clock and turn on the lamp.. Your previous actions: lookdown. moveahead. moveahead. rotateleft. lookup. pickupobject. lookdown. rotateleft. What is you next step?<|endoftext|>',\n",
       "  '<|endoftext|>Task: pick up the alarm clock and turn on the lamp.. Your previous actions: lookdown. moveahead. moveahead. rotateleft. lookup. pickupobject. lookdown. rotateleft. moveahead. What is you next step?<|endoftext|>'],\n",
       " 'images_features': None,\n",
       " 'targets': ['lookdown',\n",
       "  'moveahead',\n",
       "  'moveahead',\n",
       "  'rotateleft',\n",
       "  'lookup',\n",
       "  'pickupobject',\n",
       "  'lookdown',\n",
       "  'rotateleft',\n",
       "  'moveahead',\n",
       "  'rotateright']}"
      ]
     },
     "execution_count": 5,
     "metadata": {},
     "output_type": "execute_result"
    }
   ],
   "source": [
    "train_dataset[0]"
   ]
  },
  {
   "cell_type": "code",
   "execution_count": 6,
   "metadata": {},
   "outputs": [],
   "source": [
    "mmgpt = MultyModalGPT2(cfg)\n",
    "mmgpt.train()\n",
    "# mmgpt.set_bias_training()\n",
    "opt = AdamW(mmgpt.get_trainable_params())"
   ]
  },
  {
   "cell_type": "code",
   "execution_count": 7,
   "metadata": {},
   "outputs": [
    {
     "data": {
      "text/plain": [
       "{'promts': ['<|endoftext|>Task: turn a lamp on and pick up a book.. Your previous actions: . What is you next step?<|endoftext|>',\n",
       "  '<|endoftext|>Task: turn a lamp on and pick up a book.. Your previous actions: lookdown. What is you next step?<|endoftext|>',\n",
       "  '<|endoftext|>Task: turn a lamp on and pick up a book.. Your previous actions: lookdown. rotateright. What is you next step?<|endoftext|>',\n",
       "  '<|endoftext|>Task: turn a lamp on and pick up a book.. Your previous actions: lookdown. rotateright. moveahead. What is you next step?<|endoftext|>',\n",
       "  '<|endoftext|>Task: turn a lamp on and pick up a book.. Your previous actions: lookdown. rotateright. moveahead. lookdown. What is you next step?<|endoftext|>',\n",
       "  '<|endoftext|>Task: turn a lamp on and pick up a book.. Your previous actions: lookdown. rotateright. moveahead. lookdown. toggleobjecton. What is you next step?<|endoftext|>'],\n",
       " 'images_features': None,\n",
       " 'targets': ['lookdown',\n",
       "  'rotateright',\n",
       "  'moveahead',\n",
       "  'lookdown',\n",
       "  'toggleobjecton',\n",
       "  'pickupobject']}"
      ]
     },
     "execution_count": 7,
     "metadata": {},
     "output_type": "execute_result"
    }
   ],
   "source": [
    "train_dataset[94]"
   ]
  },
  {
   "cell_type": "code",
   "execution_count": 8,
   "metadata": {},
   "outputs": [
    {
     "name": "stdout",
     "output_type": "stream",
     "text": [
      "Epoch 1/10\n"
     ]
    },
    {
     "data": {
      "application/vnd.jupyter.widget-view+json": {
       "model_id": "d4780e2af2d647fdaa36b7c5807decf6",
       "version_major": 2,
       "version_minor": 0
      },
      "text/plain": [
       "TRAIN:   0%|          | 0/500 [00:00<?, ?it/s]"
      ]
     },
     "metadata": {},
     "output_type": "display_data"
    },
    {
     "data": {
      "application/vnd.jupyter.widget-view+json": {
       "model_id": "4b9e78e38a164b97b8be4f1747f87189",
       "version_major": 2,
       "version_minor": 0
      },
      "text/plain": [
       "EVAL :   0%|          | 0/500 [00:00<?, ?it/s]"
      ]
     },
     "metadata": {},
     "output_type": "display_data"
    },
    {
     "data": {
      "application/vnd.jupyter.widget-view+json": {
       "model_id": "1ffa79eb953c43fd859d15f2abe85750",
       "version_major": 2,
       "version_minor": 0
      },
      "text/plain": [
       "EVAL :   0%|          | 0/251 [00:00<?, ?it/s]"
      ]
     },
     "metadata": {},
     "output_type": "display_data"
    },
    {
     "name": "stdout",
     "output_type": "stream",
     "text": [
      "Epoch 2/10\n"
     ]
    },
    {
     "data": {
      "application/vnd.jupyter.widget-view+json": {
       "model_id": "614bb3bf1a5940bf890dbd1ab2d18ab6",
       "version_major": 2,
       "version_minor": 0
      },
      "text/plain": [
       "TRAIN:   0%|          | 0/500 [00:00<?, ?it/s]"
      ]
     },
     "metadata": {},
     "output_type": "display_data"
    },
    {
     "data": {
      "application/vnd.jupyter.widget-view+json": {
       "model_id": "ec85ca6252ca473f892971dabb466852",
       "version_major": 2,
       "version_minor": 0
      },
      "text/plain": [
       "EVAL :   0%|          | 0/500 [00:00<?, ?it/s]"
      ]
     },
     "metadata": {},
     "output_type": "display_data"
    },
    {
     "data": {
      "application/vnd.jupyter.widget-view+json": {
       "model_id": "cbef40250e094fd7818f2e858835ab68",
       "version_major": 2,
       "version_minor": 0
      },
      "text/plain": [
       "EVAL :   0%|          | 0/251 [00:00<?, ?it/s]"
      ]
     },
     "metadata": {},
     "output_type": "display_data"
    },
    {
     "name": "stdout",
     "output_type": "stream",
     "text": [
      "Epoch 3/10\n"
     ]
    },
    {
     "data": {
      "application/vnd.jupyter.widget-view+json": {
       "model_id": "ed059f9f32c6412693884e500c63a20c",
       "version_major": 2,
       "version_minor": 0
      },
      "text/plain": [
       "TRAIN:   0%|          | 0/500 [00:00<?, ?it/s]"
      ]
     },
     "metadata": {},
     "output_type": "display_data"
    },
    {
     "data": {
      "application/vnd.jupyter.widget-view+json": {
       "model_id": "c9dd9e4e71304edf8cc0031b4610cdca",
       "version_major": 2,
       "version_minor": 0
      },
      "text/plain": [
       "EVAL :   0%|          | 0/500 [00:00<?, ?it/s]"
      ]
     },
     "metadata": {},
     "output_type": "display_data"
    },
    {
     "data": {
      "application/vnd.jupyter.widget-view+json": {
       "model_id": "58a03cdffe664af582d72ebae4d5735e",
       "version_major": 2,
       "version_minor": 0
      },
      "text/plain": [
       "EVAL :   0%|          | 0/251 [00:00<?, ?it/s]"
      ]
     },
     "metadata": {},
     "output_type": "display_data"
    },
    {
     "name": "stdout",
     "output_type": "stream",
     "text": [
      "Epoch 4/10\n"
     ]
    },
    {
     "data": {
      "application/vnd.jupyter.widget-view+json": {
       "model_id": "b6294e92afb442d8bd49700d66790dce",
       "version_major": 2,
       "version_minor": 0
      },
      "text/plain": [
       "TRAIN:   0%|          | 0/500 [00:00<?, ?it/s]"
      ]
     },
     "metadata": {},
     "output_type": "display_data"
    },
    {
     "data": {
      "application/vnd.jupyter.widget-view+json": {
       "model_id": "74652460f42a43df82f0456e680a46f8",
       "version_major": 2,
       "version_minor": 0
      },
      "text/plain": [
       "EVAL :   0%|          | 0/500 [00:00<?, ?it/s]"
      ]
     },
     "metadata": {},
     "output_type": "display_data"
    },
    {
     "data": {
      "application/vnd.jupyter.widget-view+json": {
       "model_id": "5b1cc48c40b0422397e480c2630e1bc3",
       "version_major": 2,
       "version_minor": 0
      },
      "text/plain": [
       "EVAL :   0%|          | 0/251 [00:00<?, ?it/s]"
      ]
     },
     "metadata": {},
     "output_type": "display_data"
    },
    {
     "name": "stdout",
     "output_type": "stream",
     "text": [
      "Epoch 5/10\n"
     ]
    },
    {
     "data": {
      "application/vnd.jupyter.widget-view+json": {
       "model_id": "f5ef2525ee004afa902f06b0d0db60cb",
       "version_major": 2,
       "version_minor": 0
      },
      "text/plain": [
       "TRAIN:   0%|          | 0/500 [00:00<?, ?it/s]"
      ]
     },
     "metadata": {},
     "output_type": "display_data"
    },
    {
     "data": {
      "application/vnd.jupyter.widget-view+json": {
       "model_id": "e402e33f399f4e9b9ade9080a70b5efe",
       "version_major": 2,
       "version_minor": 0
      },
      "text/plain": [
       "EVAL :   0%|          | 0/500 [00:00<?, ?it/s]"
      ]
     },
     "metadata": {},
     "output_type": "display_data"
    },
    {
     "data": {
      "application/vnd.jupyter.widget-view+json": {
       "model_id": "8419e78688f3405f8f755879ba8e0800",
       "version_major": 2,
       "version_minor": 0
      },
      "text/plain": [
       "EVAL :   0%|          | 0/251 [00:00<?, ?it/s]"
      ]
     },
     "metadata": {},
     "output_type": "display_data"
    },
    {
     "name": "stdout",
     "output_type": "stream",
     "text": [
      "Epoch 6/10\n"
     ]
    },
    {
     "data": {
      "application/vnd.jupyter.widget-view+json": {
       "model_id": "ff28a320b6b44926b6e7150b4eae7575",
       "version_major": 2,
       "version_minor": 0
      },
      "text/plain": [
       "TRAIN:   0%|          | 0/500 [00:00<?, ?it/s]"
      ]
     },
     "metadata": {},
     "output_type": "display_data"
    },
    {
     "data": {
      "application/vnd.jupyter.widget-view+json": {
       "model_id": "ab8207677ad54054ba6ac62088795165",
       "version_major": 2,
       "version_minor": 0
      },
      "text/plain": [
       "EVAL :   0%|          | 0/500 [00:00<?, ?it/s]"
      ]
     },
     "metadata": {},
     "output_type": "display_data"
    },
    {
     "data": {
      "application/vnd.jupyter.widget-view+json": {
       "model_id": "0a7dba5088bf4b6bb3fd8278c5f7909d",
       "version_major": 2,
       "version_minor": 0
      },
      "text/plain": [
       "EVAL :   0%|          | 0/251 [00:00<?, ?it/s]"
      ]
     },
     "metadata": {},
     "output_type": "display_data"
    },
    {
     "name": "stdout",
     "output_type": "stream",
     "text": [
      "Epoch 7/10\n"
     ]
    },
    {
     "data": {
      "application/vnd.jupyter.widget-view+json": {
       "model_id": "cde62cd6220d4f5195351eb31f3c391e",
       "version_major": 2,
       "version_minor": 0
      },
      "text/plain": [
       "TRAIN:   0%|          | 0/500 [00:00<?, ?it/s]"
      ]
     },
     "metadata": {},
     "output_type": "display_data"
    },
    {
     "data": {
      "application/vnd.jupyter.widget-view+json": {
       "model_id": "07c538606c3a407ba40b36e1f805e60c",
       "version_major": 2,
       "version_minor": 0
      },
      "text/plain": [
       "EVAL :   0%|          | 0/500 [00:00<?, ?it/s]"
      ]
     },
     "metadata": {},
     "output_type": "display_data"
    },
    {
     "data": {
      "application/vnd.jupyter.widget-view+json": {
       "model_id": "848079224d154236b0b6a3220243abb7",
       "version_major": 2,
       "version_minor": 0
      },
      "text/plain": [
       "EVAL :   0%|          | 0/251 [00:00<?, ?it/s]"
      ]
     },
     "metadata": {},
     "output_type": "display_data"
    },
    {
     "name": "stdout",
     "output_type": "stream",
     "text": [
      "Epoch 8/10\n"
     ]
    },
    {
     "data": {
      "application/vnd.jupyter.widget-view+json": {
       "model_id": "34bce0d5474f40389be647b252701f62",
       "version_major": 2,
       "version_minor": 0
      },
      "text/plain": [
       "TRAIN:   0%|          | 0/500 [00:00<?, ?it/s]"
      ]
     },
     "metadata": {},
     "output_type": "display_data"
    },
    {
     "data": {
      "application/vnd.jupyter.widget-view+json": {
       "model_id": "5ede8cc6823b4509a42f1e7db284b57c",
       "version_major": 2,
       "version_minor": 0
      },
      "text/plain": [
       "EVAL :   0%|          | 0/500 [00:00<?, ?it/s]"
      ]
     },
     "metadata": {},
     "output_type": "display_data"
    },
    {
     "data": {
      "application/vnd.jupyter.widget-view+json": {
       "model_id": "44fdc0e0baa14cf09992c9ec94b8a16c",
       "version_major": 2,
       "version_minor": 0
      },
      "text/plain": [
       "EVAL :   0%|          | 0/251 [00:00<?, ?it/s]"
      ]
     },
     "metadata": {},
     "output_type": "display_data"
    },
    {
     "name": "stdout",
     "output_type": "stream",
     "text": [
      "Epoch 9/10\n"
     ]
    },
    {
     "data": {
      "application/vnd.jupyter.widget-view+json": {
       "model_id": "11f6bc9855ef4e34a4b4bb15d546a102",
       "version_major": 2,
       "version_minor": 0
      },
      "text/plain": [
       "TRAIN:   0%|          | 0/500 [00:00<?, ?it/s]"
      ]
     },
     "metadata": {},
     "output_type": "display_data"
    },
    {
     "data": {
      "application/vnd.jupyter.widget-view+json": {
       "model_id": "ca13bd1db3784952b4685b3d16d17954",
       "version_major": 2,
       "version_minor": 0
      },
      "text/plain": [
       "EVAL :   0%|          | 0/500 [00:00<?, ?it/s]"
      ]
     },
     "metadata": {},
     "output_type": "display_data"
    },
    {
     "data": {
      "application/vnd.jupyter.widget-view+json": {
       "model_id": "3cbb332aaae54639ba042ebfb337b0f3",
       "version_major": 2,
       "version_minor": 0
      },
      "text/plain": [
       "EVAL :   0%|          | 0/251 [00:00<?, ?it/s]"
      ]
     },
     "metadata": {},
     "output_type": "display_data"
    },
    {
     "name": "stdout",
     "output_type": "stream",
     "text": [
      "Epoch 10/10\n"
     ]
    },
    {
     "data": {
      "application/vnd.jupyter.widget-view+json": {
       "model_id": "17b3bbe03eeb40809d55efe2b014eaf3",
       "version_major": 2,
       "version_minor": 0
      },
      "text/plain": [
       "TRAIN:   0%|          | 0/500 [00:00<?, ?it/s]"
      ]
     },
     "metadata": {},
     "output_type": "display_data"
    },
    {
     "data": {
      "application/vnd.jupyter.widget-view+json": {
       "model_id": "4b4d6a1269984b77972a3faab2186216",
       "version_major": 2,
       "version_minor": 0
      },
      "text/plain": [
       "EVAL :   0%|          | 0/500 [00:00<?, ?it/s]"
      ]
     },
     "metadata": {},
     "output_type": "display_data"
    },
    {
     "data": {
      "application/vnd.jupyter.widget-view+json": {
       "model_id": "ee49f6e74e704356934adf0361e9e3c9",
       "version_major": 2,
       "version_minor": 0
      },
      "text/plain": [
       "EVAL :   0%|          | 0/251 [00:00<?, ?it/s]"
      ]
     },
     "metadata": {},
     "output_type": "display_data"
    }
   ],
   "source": [
    "history = train_loop(mmgpt, train_dataset, test_dataset, opt, cfg)"
   ]
  },
  {
   "cell_type": "code",
   "execution_count": 9,
   "metadata": {},
   "outputs": [
    {
     "data": {
      "text/plain": [
       "<matplotlib.legend.Legend at 0x27b3b2582e0>"
      ]
     },
     "execution_count": 9,
     "metadata": {},
     "output_type": "execute_result"
    },
    {
     "data": {
      "image/png": "[encoded data removed]",
      "text/plain": [
       "<Figure size 640x480 with 1 Axes>"
      ]
     },
     "metadata": {},
     "output_type": "display_data"
    }
   ],
   "source": [
    "plt.title(\"Loss\")\n",
    "plt.plot(history[\"train_loss\"], label=\"train\")\n",
    "plt.plot(history[\"test_loss\"], label=\"test\")\n",
    "plt.grid()\n",
    "plt.legend()"
   ]
  },
  {
   "cell_type": "code",
   "execution_count": 10,
   "metadata": {},
   "outputs": [
    {
     "data": {
      "text/plain": [
       "<matplotlib.legend.Legend at 0x27b3b2e9de0>"
      ]
     },
     "execution_count": 10,
     "metadata": {},
     "output_type": "execute_result"
    },
    {
     "data": {
      "image/png": "[encoded data removed]",
      "text/plain": [
       "<Figure size 640x480 with 1 Axes>"
      ]
     },
     "metadata": {},
     "output_type": "display_data"
    }
   ],
   "source": [
    "plt.title(\"Accuracy\")\n",
    "plt.plot(history[\"train_acc\"], label=\"train\")\n",
    "plt.plot(history[\"test_acc\"], label=\"test\")\n",
    "plt.grid()\n",
    "plt.legend()"
   ]
  },
  {
   "cell_type": "code",
   "execution_count": 11,
   "metadata": {},
   "outputs": [
    {
     "data": {
      "text/plain": [
       "<matplotlib.legend.Legend at 0x27b3b31fa30>"
      ]
     },
     "execution_count": 11,
     "metadata": {},
     "output_type": "execute_result"
    },
    {
     "data": {
      "image/png": "[encoded data removed]",
      "text/plain": [
       "<Figure size 640x480 with 1 Axes>"
      ]
     },
     "metadata": {},
     "output_type": "display_data"
    }
   ],
   "source": [
    "plt.title(\"CER\")\n",
    "plt.plot(history[\"train_cer\"], label=\"train\")\n",
    "plt.plot(history[\"test_cer\"], label=\"test\")\n",
    "plt.grid()\n",
    "plt.legend()"
   ]
  },
  {
   "cell_type": "code",
   "execution_count": 12,
   "metadata": {},
   "outputs": [
    {
     "data": {
      "text/plain": [
       "{'train_loss': [0.625026026159525,\n",
       "  0.44644445618987083,\n",
       "  0.4041221339404583,\n",
       "  0.38712144967913625,\n",
       "  0.36468951439857483,\n",
       "  0.3526329814195633,\n",
       "  0.341327627748251,\n",
       "  0.3334428492486477,\n",
       "  0.3224051476120949,\n",
       "  0.32371435171365737],\n",
       " 'train_acc': [0.0516,\n",
       "  0.0484,\n",
       "  0.054200000000000005,\n",
       "  0.03,\n",
       "  0.042,\n",
       "  0.04580000000000001,\n",
       "  0.07379999999999999,\n",
       "  0.0654,\n",
       "  0.07759999999999999,\n",
       "  0.07],\n",
       " 'train_cer': [0.5834404,\n",
       "  0.5920599,\n",
       "  0.575651,\n",
       "  0.579987,\n",
       "  0.5427563,\n",
       "  0.5320965,\n",
       "  0.51011,\n",
       "  0.5030517,\n",
       "  0.49209094,\n",
       "  0.53747106],\n",
       " 'test_loss': [1.3185917367616973,\n",
       "  1.4578843350666928,\n",
       "  1.3859016198323542,\n",
       "  1.4363183487815212,\n",
       "  1.412343467374247,\n",
       "  1.466575016063523,\n",
       "  1.541319359405582,\n",
       "  1.6232923621912876,\n",
       "  1.797519474568595,\n",
       "  1.6516928061308613],\n",
       " 'test_acc': [0.05298804780876494,\n",
       "  0.0402390438247012,\n",
       "  0.060159362549800796,\n",
       "  0.03705179282868526,\n",
       "  0.043824701195219126,\n",
       "  0.056972111553784864,\n",
       "  0.0653386454183267,\n",
       "  0.05617529880478088,\n",
       "  0.05896414342629482,\n",
       "  0.049800796812749],\n",
       " 'test_cer': [0.60841984,\n",
       "  0.59528315,\n",
       "  0.5586552,\n",
       "  0.5859728,\n",
       "  0.5402901,\n",
       "  0.5298384,\n",
       "  0.5146725,\n",
       "  0.5111943,\n",
       "  0.51067954,\n",
       "  0.5533163]}"
      ]
     },
     "execution_count": 12,
     "metadata": {},
     "output_type": "execute_result"
    }
   ],
   "source": [
    "history"
   ]
  }
 ],
 "metadata": {
  "kernelspec": {
   "display_name": ".venv",
   "language": "python",
   "name": "python3"
  },
  "language_info": {
   "codemirror_mode": {
    "name": "ipython",
    "version": 3
   },
   "file_extension": ".py",
   "mimetype": "text/x-python",
   "name": "python",
   "nbconvert_exporter": "python",
   "pygments_lexer": "ipython3",
   "version": "3.10.7"
  },
  "orig_nbformat": 4
 },
 "nbformat": 4,
 "nbformat_minor": 2
}
